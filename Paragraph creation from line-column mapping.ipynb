{
 "cells": [
  {
   "cell_type": "code",
   "execution_count": 171,
   "metadata": {},
   "outputs": [],
   "source": [
    "input_STR = \"\"\"\n",
    "This 1:1 100:2 50:1\n",
    "is 1:2 100:1\n",
    "a 1:3\n",
    "parsing 1:4\n",
    "progam 1:4 50:2\n",
    "yours 100:3\n",
    "\"\"\"\n",
    "output = \"\"\"\n",
    "This is a parsing program\n",
    ".....\n",
    ".....\n",
    "This program\n",
    "...\n",
    "..\n",
    "This is yours\n",
    "\"\"\"\n"
   ]
  },
  {
   "cell_type": "code",
   "execution_count": 172,
   "metadata": {},
   "outputs": [],
   "source": [
    "from collections import defaultdict\n",
    "raw_map = defaultdict(str)\n",
    "for line in input_STR.splitlines():\n",
    "    if line.strip():\n",
    "        token = line.split(' ')\n",
    "        word = token[0]\n",
    "        mappings = token[1:]\n",
    "        raw_map[word] = mappings"
   ]
  },
  {
   "cell_type": "code",
   "execution_count": 173,
   "metadata": {},
   "outputs": [
    {
     "data": {
      "text/plain": [
       "defaultdict(str,\n",
       "            {'This': ['1:1', '100:2', '50:1'],\n",
       "             'is': ['1:2', '100:1'],\n",
       "             'a': ['1:3'],\n",
       "             'parsing': ['1:4'],\n",
       "             'progam': ['1:4', '50:2'],\n",
       "             'yours': ['100:3']})"
      ]
     },
     "execution_count": 173,
     "metadata": {},
     "output_type": "execute_result"
    }
   ],
   "source": [
    "raw_map"
   ]
  },
  {
   "cell_type": "markdown",
   "metadata": {},
   "source": [
    "# Do reverse indexing"
   ]
  },
  {
   "cell_type": "code",
   "execution_count": 202,
   "metadata": {},
   "outputs": [],
   "source": [
    "reverse_indexing = []\n",
    "for word, mappings in raw_map.items():\n",
    "    for mapping in mappings:\n",
    "        line_no = mapping.split(':')[0]\n",
    "        column = mapping.split(':')[1]\n",
    "        reverse_indexing.append(tuple([int(line_no), column, word]))"
   ]
  },
  {
   "cell_type": "code",
   "execution_count": 203,
   "metadata": {},
   "outputs": [
    {
     "data": {
      "text/plain": [
       "[(1, '1', 'This'),\n",
       " (100, '2', 'This'),\n",
       " (50, '1', 'This'),\n",
       " (1, '2', 'is'),\n",
       " (100, '1', 'is'),\n",
       " (1, '3', 'a'),\n",
       " (1, '4', 'parsing'),\n",
       " (1, '4', 'progam'),\n",
       " (50, '2', 'progam'),\n",
       " (100, '3', 'yours')]"
      ]
     },
     "execution_count": 203,
     "metadata": {},
     "output_type": "execute_result"
    }
   ],
   "source": [
    "reverse_indexing"
   ]
  },
  {
   "cell_type": "code",
   "execution_count": 204,
   "metadata": {},
   "outputs": [],
   "source": [
    "# Get non empty lines\n",
    "paragraph = defaultdict(dict)"
   ]
  },
  {
   "cell_type": "code",
   "execution_count": 205,
   "metadata": {},
   "outputs": [],
   "source": [
    "for line_no, column_no, word in reverse_indexing:\n",
    "    if paragraph[line_no].get(int(column_no), None) is None:\n",
    "        paragraph[line_no].update({int(column_no):word})\n",
    "    else:\n",
    "        paragraph[line_no].update({int(column_no)+1:word})"
   ]
  },
  {
   "cell_type": "code",
   "execution_count": 206,
   "metadata": {},
   "outputs": [
    {
     "data": {
      "text/plain": [
       "defaultdict(dict,\n",
       "            {1: {1: 'This', 2: 'is', 3: 'a', 4: 'parsing', 5: 'progam'},\n",
       "             100: {2: 'This', 1: 'is', 3: 'yours'},\n",
       "             50: {1: 'This', 2: 'progam'}})"
      ]
     },
     "execution_count": 206,
     "metadata": {},
     "output_type": "execute_result"
    }
   ],
   "source": [
    "paragraph"
   ]
  },
  {
   "cell_type": "code",
   "execution_count": 214,
   "metadata": {},
   "outputs": [
    {
     "name": "stdout",
     "output_type": "stream",
     "text": [
      "1 This is a parsing progam \n",
      "2 \n",
      "3 \n",
      "4 \n",
      "5 \n",
      "6 \n",
      "7 \n",
      "8 \n",
      "9 \n",
      "10 \n",
      "11 \n",
      "12 \n",
      "13 \n",
      "14 \n",
      "15 \n",
      "16 \n",
      "17 \n",
      "18 \n",
      "19 \n",
      "20 \n",
      "21 \n",
      "22 \n",
      "23 \n",
      "24 \n",
      "25 \n",
      "26 \n",
      "27 \n",
      "28 \n",
      "29 \n",
      "30 \n",
      "31 \n",
      "32 \n",
      "33 \n",
      "34 \n",
      "35 \n",
      "36 \n",
      "37 \n",
      "38 \n",
      "39 \n",
      "40 \n",
      "41 \n",
      "42 \n",
      "43 \n",
      "44 \n",
      "45 \n",
      "46 \n",
      "47 \n",
      "48 \n",
      "49 \n",
      "50 This progam \n",
      "51 \n",
      "52 \n",
      "53 \n",
      "54 \n",
      "55 \n",
      "56 \n",
      "57 \n",
      "58 \n",
      "59 \n",
      "60 \n",
      "61 \n",
      "62 \n",
      "63 \n",
      "64 \n",
      "65 \n",
      "66 \n",
      "67 \n",
      "68 \n",
      "69 \n",
      "70 \n",
      "71 \n",
      "72 \n",
      "73 \n",
      "74 \n",
      "75 \n",
      "76 \n",
      "77 \n",
      "78 \n",
      "79 \n",
      "80 \n",
      "81 \n",
      "82 \n",
      "83 \n",
      "84 \n",
      "85 \n",
      "86 \n",
      "87 \n",
      "88 \n",
      "89 \n",
      "90 \n",
      "91 \n",
      "92 \n",
      "93 \n",
      "94 \n",
      "95 \n",
      "96 \n",
      "97 \n",
      "98 \n",
      "99 \n",
      "100 is This yours \n"
     ]
    }
   ],
   "source": [
    "for line_no in range(1, max(paragraph) + 1):\n",
    "    print_line = ''\n",
    "    for key in sorted(paragraph[line_no]):\n",
    "        print_line += paragraph[line_no][key] + ' '\n",
    "    print(line_no , print_line)"
   ]
  },
  {
   "cell_type": "code",
   "execution_count": null,
   "metadata": {},
   "outputs": [],
   "source": []
  }
 ],
 "metadata": {
  "kernelspec": {
   "display_name": "Python 3",
   "language": "python",
   "name": "python3"
  },
  "language_info": {
   "codemirror_mode": {
    "name": "ipython",
    "version": 3
   },
   "file_extension": ".py",
   "mimetype": "text/x-python",
   "name": "python",
   "nbconvert_exporter": "python",
   "pygments_lexer": "ipython3",
   "version": "3.7.4"
  }
 },
 "nbformat": 4,
 "nbformat_minor": 2
}
