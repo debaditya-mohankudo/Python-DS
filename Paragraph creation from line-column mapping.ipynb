{
 "cells": [
  {
   "cell_type": "code",
   "execution_count": 47,
   "metadata": {},
   "outputs": [],
   "source": [
    "input_STR = \"\"\"\n",
    "This 1:1 100:1 50:1\n",
    "is 1:2 100:2\n",
    "a 1:3\n",
    "parsing 1:4\n",
    "progam 1:4 50:2\n",
    "yours 100:3\n",
    "\"\"\"\n",
    "output = \"\"\"\n",
    "This is a parsing program\n",
    ".....\n",
    ".....\n",
    "This program\n",
    "...\n",
    "..\n",
    "This is yours\n",
    "\"\"\"\n"
   ]
  },
  {
   "cell_type": "markdown",
   "metadata": {},
   "source": [
    "# Do reverse indexing"
   ]
  },
  {
   "cell_type": "code",
   "execution_count": 140,
   "metadata": {},
   "outputs": [],
   "source": [
    "from collections import defaultdict\n",
    "raw_map = defaultdict(str)\n",
    "for line in input_STR.splitlines():\n",
    "    if line.strip():\n",
    "        token = line.split(' ')\n",
    "        word = token[0]\n",
    "        mappings = token[1:]\n",
    "        raw_map[word] = mappings"
   ]
  },
  {
   "cell_type": "code",
   "execution_count": 141,
   "metadata": {},
   "outputs": [
    {
     "data": {
      "text/plain": [
       "defaultdict(str,\n",
       "            {'This': ['1:1', '100:1', '50:1'],\n",
       "             'is': ['1:2', '100:2'],\n",
       "             'a': ['1:3'],\n",
       "             'parsing': ['1:4'],\n",
       "             'progam': ['1:4', '50:2'],\n",
       "             'yours': ['100:3']})"
      ]
     },
     "execution_count": 141,
     "metadata": {},
     "output_type": "execute_result"
    }
   ],
   "source": [
    "raw_map"
   ]
  },
  {
   "cell_type": "code",
   "execution_count": 142,
   "metadata": {},
   "outputs": [],
   "source": [
    "reverse_indexing = []\n",
    "for word, mappings in raw_map.items():\n",
    "    for mapping in mappings:\n",
    "        line_no = mapping.split(':')[0]\n",
    "        column = mapping.split(':')[1]\n",
    "        reverse_indexing.append(tuple([line_no, column, word]))"
   ]
  },
  {
   "cell_type": "code",
   "execution_count": 143,
   "metadata": {},
   "outputs": [
    {
     "data": {
      "text/plain": [
       "[('1', '1', 'This'),\n",
       " ('100', '1', 'This'),\n",
       " ('50', '1', 'This'),\n",
       " ('1', '2', 'is'),\n",
       " ('100', '2', 'is'),\n",
       " ('1', '3', 'a'),\n",
       " ('1', '4', 'parsing'),\n",
       " ('1', '4', 'progam'),\n",
       " ('50', '2', 'progam'),\n",
       " ('100', '3', 'yours')]"
      ]
     },
     "execution_count": 143,
     "metadata": {},
     "output_type": "execute_result"
    }
   ],
   "source": [
    "reverse_indexing"
   ]
  },
  {
   "cell_type": "code",
   "execution_count": 144,
   "metadata": {},
   "outputs": [],
   "source": [
    "# Get non empty lines\n",
    "paragraph = defaultdict(dict)"
   ]
  },
  {
   "cell_type": "code",
   "execution_count": 145,
   "metadata": {},
   "outputs": [],
   "source": [
    "for line_no, column_no, word in reverse_indexing:\n",
    "    if paragraph[line_no].get(int(column_no), None) is None:\n",
    "        paragraph[line_no].update({int(column_no):word})\n",
    "    else:\n",
    "        paragraph[line_no].update({int(column_no)+1:word})"
   ]
  },
  {
   "cell_type": "code",
   "execution_count": 146,
   "metadata": {},
   "outputs": [
    {
     "data": {
      "text/plain": [
       "defaultdict(dict,\n",
       "            {'1': {1: 'This', 2: 'This', 3: 'is', 4: 'a', 5: 'progam'},\n",
       "             '100': {1: 'This', 2: 'This', 3: 'is', 4: 'yours'},\n",
       "             '50': {1: 'This', 2: 'This', 3: 'progam'}})"
      ]
     },
     "execution_count": 146,
     "metadata": {},
     "output_type": "execute_result"
    }
   ],
   "source": [
    "line_words"
   ]
  },
  {
   "cell_type": "code",
   "execution_count": null,
   "metadata": {},
   "outputs": [],
   "source": []
  }
 ],
 "metadata": {
  "kernelspec": {
   "display_name": "Python 3",
   "language": "python",
   "name": "python3"
  },
  "language_info": {
   "codemirror_mode": {
    "name": "ipython",
    "version": 3
   },
   "file_extension": ".py",
   "mimetype": "text/x-python",
   "name": "python",
   "nbconvert_exporter": "python",
   "pygments_lexer": "ipython3",
   "version": "3.7.4"
  }
 },
 "nbformat": 4,
 "nbformat_minor": 2
}
