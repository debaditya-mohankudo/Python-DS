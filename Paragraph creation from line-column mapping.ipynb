{
 "cells": [
  {
   "cell_type": "code",
   "execution_count": 171,
   "metadata": {},
   "outputs": [],
   "source": [
    "input_STR = \"\"\"\n",
    "This 1:1 100:2 50:1\n",
    "is 1:2 100:1\n",
    "a 1:3\n",
    "parsing 1:4\n",
    "progam 1:4 50:2\n",
    "yours 100:3\n",
    "\"\"\"\n",
    "output = \"\"\"\n",
    "This is a parsing program\n",
    ".....\n",
    ".....\n",
    "This program\n",
    "...\n",
    "..\n",
    "This is yours\n",
    "\"\"\"\n"
   ]
  },
  {
   "cell_type": "markdown",
   "metadata": {},
   "source": [
    "# Do reverse indexing"
   ]
  },
  {
   "cell_type": "code",
   "execution_count": 172,
   "metadata": {},
   "outputs": [],
   "source": [
    "from collections import defaultdict\n",
    "raw_map = defaultdict(str)\n",
    "for line in input_STR.splitlines():\n",
    "    if line.strip():\n",
    "        token = line.split(' ')\n",
    "        word = token[0]\n",
    "        mappings = token[1:]\n",
    "        raw_map[word] = mappings"
   ]
  },
  {
   "cell_type": "code",
   "execution_count": 173,
   "metadata": {},
   "outputs": [
    {
     "data": {
      "text/plain": [
       "defaultdict(str,\n",
       "            {'This': ['1:1', '100:2', '50:1'],\n",
       "             'is': ['1:2', '100:1'],\n",
       "             'a': ['1:3'],\n",
       "             'parsing': ['1:4'],\n",
       "             'progam': ['1:4', '50:2'],\n",
       "             'yours': ['100:3']})"
      ]
     },
     "execution_count": 173,
     "metadata": {},
     "output_type": "execute_result"
    }
   ],
   "source": [
    "raw_map"
   ]
  },
  {
   "cell_type": "code",
   "execution_count": 174,
   "metadata": {},
   "outputs": [],
   "source": [
    "reverse_indexing = []\n",
    "for word, mappings in raw_map.items():\n",
    "    for mapping in mappings:\n",
    "        line_no = mapping.split(':')[0]\n",
    "        column = mapping.split(':')[1]\n",
    "        reverse_indexing.append(tuple([line_no, column, word]))"
   ]
  },
  {
   "cell_type": "code",
   "execution_count": 183,
   "metadata": {},
   "outputs": [
    {
     "data": {
      "text/plain": [
       "[('1', '1', 'This'),\n",
       " ('100', '2', 'This'),\n",
       " ('50', '1', 'This'),\n",
       " ('1', '2', 'is'),\n",
       " ('100', '1', 'is'),\n",
       " ('1', '3', 'a'),\n",
       " ('1', '4', 'parsing'),\n",
       " ('1', '4', 'progam'),\n",
       " ('50', '2', 'progam'),\n",
       " ('100', '3', 'yours')]"
      ]
     },
     "execution_count": 183,
     "metadata": {},
     "output_type": "execute_result"
    }
   ],
   "source": [
    "reverse_indexing"
   ]
  },
  {
   "cell_type": "code",
   "execution_count": 187,
   "metadata": {},
   "outputs": [],
   "source": [
    "# Get non empty lines\n",
    "paragraph = defaultdict(dict)"
   ]
  },
  {
   "cell_type": "code",
   "execution_count": 188,
   "metadata": {},
   "outputs": [],
   "source": [
    "for line_no, column_no, word in reverse_indexing:\n",
    "    if paragraph[line_no].get(int(column_no), None) is None:\n",
    "        paragraph[line_no].update({int(column_no):word})\n",
    "    else:\n",
    "        paragraph[line_no].update({int(column_no)+1:word})"
   ]
  },
  {
   "cell_type": "code",
   "execution_count": 189,
   "metadata": {},
   "outputs": [
    {
     "data": {
      "text/plain": [
       "defaultdict(dict,\n",
       "            {'1': {1: 'This', 2: 'is', 3: 'a', 4: 'parsing', 5: 'progam'},\n",
       "             '100': {2: 'This', 1: 'is', 3: 'yours'},\n",
       "             '50': {1: 'This', 2: 'progam'}})"
      ]
     },
     "execution_count": 189,
     "metadata": {},
     "output_type": "execute_result"
    }
   ],
   "source": [
    "paragraph"
   ]
  },
  {
   "cell_type": "code",
   "execution_count": 194,
   "metadata": {},
   "outputs": [
    {
     "name": "stdout",
     "output_type": "stream",
     "text": [
      "1 This is a parsing progam \n",
      "100 is This yours \n",
      "50 This progam \n"
     ]
    }
   ],
   "source": [
    "for line in paragraph:\n",
    "    print_line = ''\n",
    "    for key in sorted(paragraph[line]):\n",
    "        print_line += paragraph[line][key] + ' '\n",
    "    print(line, print_line)\n",
    "        "
   ]
  }
 ],
 "metadata": {
  "kernelspec": {
   "display_name": "Python 3",
   "language": "python",
   "name": "python3"
  },
  "language_info": {
   "codemirror_mode": {
    "name": "ipython",
    "version": 3
   },
   "file_extension": ".py",
   "mimetype": "text/x-python",
   "name": "python",
   "nbconvert_exporter": "python",
   "pygments_lexer": "ipython3",
   "version": "3.7.4"
  }
 },
 "nbformat": 4,
 "nbformat_minor": 2
}
