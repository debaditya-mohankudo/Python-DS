{
 "cells": [
  {
   "cell_type": "code",
   "execution_count": 1,
   "metadata": {},
   "outputs": [],
   "source": [
    "# implement a binary search tree and find duplicate entries"
   ]
  },
  {
   "cell_type": "code",
   "execution_count": 8,
   "metadata": {},
   "outputs": [],
   "source": [
    "class BSTNode:\n",
    "    '''represent the binary tree node'''\n",
    "    def __init__(self, data=None, left=None, right=None):\n",
    "        self.data = data\n",
    "        self.left = left\n",
    "        self.right = right\n",
    "        self.counter = 1\n",
    "        \n",
    "    def __str__(self):\n",
    "        return str(self.data) + str(self.counter)"
   ]
  },
  {
   "cell_type": "code",
   "execution_count": 10,
   "metadata": {},
   "outputs": [],
   "source": [
    "class BST:\n",
    "    \"\"\"represent the binary search tree\"\"\"\n",
    "    def __init__(self):\n",
    "        self.root = None\n",
    "        \n",
    "    def insert(self, data):\n",
    "        if self.root is None:\n",
    "            self.root = BSTNode(data, left=None, right=None)\n",
    "        else:\n",
    "            # recursively find the node and add data\n",
    "            self.__insert(self.root, data)\n",
    "    \n",
    "    def __insert(self, node, data):\n",
    "        if data < node.data:\n",
    "            if node.left is None:\n",
    "                node.left = BSTNode(data, left=None, right=None)\n",
    "            elif node.left.data == data: \n",
    "                node.left.counter += 1\n",
    "            else:\n",
    "                self.__insert(node.left , data)\n",
    "        elif data > node.data:\n",
    "            if node.right is None:\n",
    "                node.right = BSTNode(data, left=None, right=None)\n",
    "            elif node.right.data == data:\n",
    "                node.right.counter += 1\n",
    "            else:\n",
    "                self.__insert(node.right, data)\n",
    "        else:\n",
    "            self.node.counter += 1\n",
    "            \n",
    "    def print_tree(self):\n",
    "        if self.root is None:\n",
    "            print('Empty! LOL')\n",
    "        else:\n",
    "            self.__print_tree(self.root)\n",
    "    \n",
    "    def __print_tree(self, node):\n",
    "        # print recursively\n",
    "        if node.left is not None:\n",
    "            self.__print_tree(node.left)\n",
    "        if node.counter > \n",
    "        print(node.data, node.counter)\n",
    "        if node.right is  not None:\n",
    "            self.__print_tree(node.right)"
   ]
  },
  {
   "cell_type": "code",
   "execution_count": 11,
   "metadata": {},
   "outputs": [
    {
     "name": "stdout",
     "output_type": "stream",
     "text": [
      "1 1\n",
      "2 1\n",
      "3 2\n",
      "5 2\n",
      "11 1\n",
      "13 1\n",
      "15 1\n",
      "40 1\n"
     ]
    }
   ],
   "source": [
    "a = [1, 3, 5, 11, 13, 40, 15, 2, 5, 3]\n",
    "bst_Tree = BST()\n",
    "for item in a:\n",
    "    bst_Tree.insert(item)\n",
    "bst_Tree.print_tree()"
   ]
  }
 ],
 "metadata": {
  "kernelspec": {
   "display_name": "Python 3",
   "language": "python",
   "name": "python3"
  },
  "language_info": {
   "codemirror_mode": {
    "name": "ipython",
    "version": 3
   },
   "file_extension": ".py",
   "mimetype": "text/x-python",
   "name": "python",
   "nbconvert_exporter": "python",
   "pygments_lexer": "ipython3",
   "version": "3.7.4"
  }
 },
 "nbformat": 4,
 "nbformat_minor": 4
}
