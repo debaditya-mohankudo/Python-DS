{
 "cells": [
  {
   "cell_type": "code",
   "execution_count": 16,
   "metadata": {},
   "outputs": [],
   "source": [
    "# implement a binary search tree and find duplicate entries"
   ]
  },
  {
   "cell_type": "code",
   "execution_count": 4,
   "metadata": {},
   "outputs": [],
   "source": [
    "class BSTNode:\n",
    "    '''represent the binary tree node'''\n",
    "    def __init__(self, data=None, left=None, right=None):\n",
    "        self.data = data\n",
    "        self.left = left\n",
    "        self.right = right\n",
    "        self.counter = 1\n",
    "        \n",
    "    def __str__(self):\n",
    "        return str(self.data) + str(self.counter)"
   ]
  },
  {
   "cell_type": "code",
   "execution_count": 13,
   "metadata": {},
   "outputs": [],
   "source": [
    "\n",
    "class BST:\n",
    "    \"\"\"represent the binary search tree\"\"\"\n",
    "    def __init__(self):\n",
    "        self.root = None\n",
    "        \n",
    "    def insert(self, data):\n",
    "        if self.root is None:\n",
    "            self.root = BSTNode(data, left=None, right=None)\n",
    "        else:\n",
    "            # recursively find the node and add data\n",
    "            self.__insert(self.root, data)\n",
    "    \n",
    "    def __insert(self, node, data):\n",
    "        if data < node.data:\n",
    "            if node.left is None:\n",
    "                node.left = BSTNode(data, left=None, right=None)\n",
    "            elif node.left.data == data: \n",
    "                node.left.counter += 1\n",
    "            else:\n",
    "                self.__insert(node.left , data)\n",
    "        elif data > node.data:\n",
    "            if node.right is None:\n",
    "                node.right = BSTNode(data, left=None, right=None)\n",
    "            elif node.right.data == data:\n",
    "                node.right.counter += 1\n",
    "            else:\n",
    "                self.__insert(node.right, data)\n",
    "        else:\n",
    "            self.node.counter += 1\n",
    "            \n",
    "    def print_tree(self):\n",
    "        if self.root is None:\n",
    "            print('Empty! LOL')\n",
    "        else:\n",
    "            self.__print_tree(self.root)\n",
    "    \n",
    "    def __print_tree(self, node):\n",
    "        # print recursively\n",
    "        if node.left is not None:\n",
    "            self.__print_tree(node.left)\n",
    "        if node.counter > 1:\n",
    "            print(node.data)\n",
    "        if node.right is  not None:\n",
    "            self.__print_tree(node.right)\n",
    "            \n"
   ]
  },
  {
   "cell_type": "code",
   "execution_count": 14,
   "metadata": {},
   "outputs": [
    {
     "name": "stdout",
     "output_type": "stream",
     "text": [
      "3\n",
      "5\n",
      "11\n"
     ]
    }
   ],
   "source": [
    "a = [1, 3, 5, 11, 13, 40, 11, 15, 2, 5, 3]\n",
    "bst_Tree = BST()\n",
    "for item in a:\n",
    "    bst_Tree.insert(item)\n",
    "bst_Tree.print_tree()"
   ]
  },
  {
   "cell_type": "markdown",
   "metadata": {},
   "source": [
    "## 2nd approach"
   ]
  },
  {
   "cell_type": "code",
   "execution_count": 15,
   "metadata": {},
   "outputs": [],
   "source": [
    "#O(nlogn)?\n",
    "def find_duplicates(L):\n",
    "    if len(L) == 0:\n",
    "        return\n",
    "    item = L[0]\n",
    "    L1 = [num for num in L if num < item]\n",
    "    L2 = [num for num in L if num > item]\n",
    "    if len(L) - len(L1) - len(L2) > 1:\n",
    "        print(item)\n",
    "    find_duplicates(L1)\n",
    "    find_duplicates(L2)"
   ]
  },
  {
   "cell_type": "code",
   "execution_count": 16,
   "metadata": {},
   "outputs": [
    {
     "name": "stdout",
     "output_type": "stream",
     "text": [
      "3\n",
      "5\n",
      "11\n"
     ]
    }
   ],
   "source": [
    "find_duplicates(a)"
   ]
  },
  {
   "cell_type": "markdown",
   "metadata": {},
   "source": [
    "## 3rd approach"
   ]
  },
  {
   "cell_type": "code",
   "execution_count": 22,
   "metadata": {},
   "outputs": [],
   "source": [
    "# numbers are from 1  to n\n",
    "def find_duplicates(L):\n",
    "    for item in L:\n",
    "        item = abs(item)\n",
    "        calculated_index = item - 1\n",
    "        if L[calculated_index] > 0:\n",
    "            L[calculated_index] = 0 - L[calculated_index]\n",
    "        else:\n",
    "            print(item)"
   ]
  },
  {
   "cell_type": "code",
   "execution_count": 25,
   "metadata": {},
   "outputs": [],
   "source": [
    "a = [3,2,2,1,1,4,5]"
   ]
  },
  {
   "cell_type": "code",
   "execution_count": 26,
   "metadata": {},
   "outputs": [
    {
     "name": "stdout",
     "output_type": "stream",
     "text": [
      "2\n",
      "1\n"
     ]
    }
   ],
   "source": [
    "find_duplicates(a)"
   ]
  }
 ],
 "metadata": {
  "kernelspec": {
   "display_name": "Python 3",
   "language": "python",
   "name": "python3"
  },
  "language_info": {
   "codemirror_mode": {
    "name": "ipython",
    "version": 3
   },
   "file_extension": ".py",
   "mimetype": "text/x-python",
   "name": "python",
   "nbconvert_exporter": "python",
   "pygments_lexer": "ipython3",
   "version": "3.7.4"
  }
 },
 "nbformat": 4,
 "nbformat_minor": 4
}
