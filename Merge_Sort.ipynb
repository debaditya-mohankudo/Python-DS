{
 "cells": [
  {
   "cell_type": "code",
   "execution_count": 1,
   "metadata": {},
   "outputs": [],
   "source": [
    "#- vaguely put merge sort means given two sorted lists merge it and sort it.\n",
    "#- when we are given an unsorted array, first thing we need to achive is to find a(many) pair of sorted arrays to merge\n",
    "#- we know an array is already sorted when the length of the array is 1. ( funny and fundamental to many sorting logic)\n",
    "#- Let's get all the sorted arrays by dividing the array into ~half recursively till the leaf array has one/no element(which would be sorted by defn)\n",
    "#- and keep merging sorted arrays backwards"
   ]
  },
  {
   "cell_type": "code",
   "execution_count": 63,
   "metadata": {},
   "outputs": [
    {
     "data": {
      "text/plain": [
       "[1, 2, 3, 3, 4]"
      ]
     },
     "execution_count": 63,
     "metadata": {},
     "output_type": "execute_result"
    }
   ],
   "source": [
    "\"\"\"\n",
    "This function merges two sorted arrays ( sorted from left to right)\n",
    "e.g\n",
    "a = [1,2,3,4] and b = [5,6,7,8]\n",
    "lets represent them like they are stacks and the smallest values can be popped out\n",
    "so we send reversed lists into the function\n",
    "\n",
    "_merge_two_sorted_lists(a[::-1], b[::-1])\n",
    "\n",
    "\"\"\"\n",
    "def _merge_two_sorted_lists(a1_L, b1_L, merged_sorted_lists = None):\n",
    "    if merged_sorted_lists is None:\n",
    "        merged_sorted_lists = []\n",
    "    if not a1_L and not b1_L:\n",
    "        return merged_sorted_lists\n",
    "\n",
    "    if a1_L and b1_L:\n",
    "        if a1_L[-1] < b1_L[-1]:\n",
    "            merged_sorted_lists.append(a1_L.pop())\n",
    "        else:\n",
    "            merged_sorted_lists.append(b1_L.pop())\n",
    "    elif a1_L and not b1_L:\n",
    "        merged_sorted_lists.append(a1_L.pop())\n",
    "    elif not a1_L and b1_L:\n",
    "        merged_sorted_lists.append(b1_L.pop())\n",
    "        \n",
    "    return _merge_two_sorted_lists(a1_L, b1_L, merged_sorted_lists)\n",
    "# test it\n"
   ]
  },
  {
   "cell_type": "code",
   "execution_count": 54,
   "metadata": {},
   "outputs": [],
   "source": [
    "# Lets create pair of sorted arrays ( each of length 1 or 0)"
   ]
  },
  {
   "cell_type": "code",
   "execution_count": 60,
   "metadata": {},
   "outputs": [],
   "source": [
    "def merge_sort(unsorted_L):\n",
    "    if len(unsorted_L) < 2:\n",
    "        return unsorted_L\n",
    "    a_L = unsorted_L[: len(unsorted_L)//2]\n",
    "    b_L = unsorted_L[len(unsorted_L)//2:]\n",
    "    if len(a_L) < 2 and len(b_L) < 2: #base case of recursion\n",
    "        return _merge_two_sorted_lists(a_L, b_L)\n",
    "    else: #keep splitting\n",
    "        return _merge_two_sorted_lists(merge_sort(a_L)[::-1], merge_sort(b_L)[::-1])"
   ]
  },
  {
   "cell_type": "code",
   "execution_count": 62,
   "metadata": {},
   "outputs": [
    {
     "data": {
      "text/plain": [
       "[1, 2, 3, 3, 4, 5, 6]"
      ]
     },
     "execution_count": 62,
     "metadata": {},
     "output_type": "execute_result"
    }
   ],
   "source": [
    "merge_sort([1,3,2,5,3,4,6])"
   ]
  }
 ],
 "metadata": {
  "kernelspec": {
   "display_name": "Python 3",
   "language": "python",
   "name": "python3"
  },
  "language_info": {
   "codemirror_mode": {
    "name": "ipython",
    "version": 3
   },
   "file_extension": ".py",
   "mimetype": "text/x-python",
   "name": "python",
   "nbconvert_exporter": "python",
   "pygments_lexer": "ipython3",
   "version": "3.7.4"
  }
 },
 "nbformat": 4,
 "nbformat_minor": 2
}
