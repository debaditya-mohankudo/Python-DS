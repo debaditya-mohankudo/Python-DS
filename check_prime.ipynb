{
 "metadata": {
  "language_info": {
   "codemirror_mode": {
    "name": "ipython",
    "version": 3
   },
   "file_extension": ".py",
   "mimetype": "text/x-python",
   "name": "python",
   "nbconvert_exporter": "python",
   "pygments_lexer": "ipython3",
   "version": "3.8.2"
  },
  "orig_nbformat": 4,
  "kernelspec": {
   "name": "python3",
   "display_name": "Python 3.8.2 64-bit"
  },
  "interpreter": {
   "hash": "31f2aee4e71d21fbe5cf8b01ff0e069b9275f58929596ceb00d14d90e3e16cd6"
  }
 },
 "nbformat": 4,
 "nbformat_minor": 2,
 "cells": [
  {
   "cell_type": "code",
   "execution_count": 3,
   "metadata": {},
   "outputs": [],
   "source": []
  },
  {
   "cell_type": "code",
   "execution_count": 1,
   "metadata": {},
   "outputs": [],
   "source": []
  },
  {
   "cell_type": "code",
   "execution_count": 9,
   "metadata": {},
   "outputs": [],
   "source": [
    "### is_prime(number) = if number % p1 !=0 for all p1(prime numbers)  < (sqrt(number) + 1)\n",
    "import math\n",
    "def check_prime(N, prime_numbers_found = [2]):\n",
    "    for number in range(2, int(math.sqrt(N)) + 1):\n",
    "        if number <= prime_numbers_found[-1]:\n",
    "            if number in prime_numbers_found:\n",
    "                if N % number == 0:\n",
    "                    return False\n",
    "        else:\n",
    "            if check_prime(number, prime_numbers_found):\n",
    "                prime_numbers_found.append(number)\n",
    "                if N % number == 0:\n",
    "                    return False\n",
    "    return True"
   ]
  },
  {
   "cell_type": "code",
   "execution_count": 10,
   "metadata": {
    "tags": []
   },
   "outputs": [
    {
     "output_type": "stream",
     "name": "stdout",
     "text": [
      "2\n3\n5\n7\n11\n13\n17\n19\n23\n29\n31\n37\n41\n43\n47\n53\n59\n61\n67\n71\n73\n79\n83\n89\n97\n"
     ]
    }
   ],
   "source": [
    "for i in range(2, 100):\n",
    "    if check_prime(i):\n",
    "        print(i)\n"
   ]
  },
  {
   "cell_type": "code",
   "execution_count": null,
   "metadata": {},
   "outputs": [],
   "source": [
    "check_prime(33393939393929292929292911111111)"
   ]
  },
  {
   "cell_type": "code",
   "execution_count": null,
   "metadata": {},
   "outputs": [],
   "source": [
    "if last digit is 1:\n",
    "    say (10*x + 3 * 10 *y + 7)\n",
    "    100xy + 70x + 30y + 21 = 33393939393929292929292911111111"
   ]
  },
  {
   "cell_type": "code",
   "execution_count": 8,
   "metadata": {},
   "outputs": [
    {
     "output_type": "execute_result",
     "data": {
      "text/plain": [
       "33393939393929292929292911111090"
      ]
     },
     "metadata": {},
     "execution_count": 8
    }
   ],
   "source": [
    "## 100xy + 70x + 30y \n",
    "33393939393929292929292911111111 - 21"
   ]
  },
  {
   "cell_type": "code",
   "execution_count": null,
   "metadata": {},
   "outputs": [],
   "source": []
  }
 ]
}