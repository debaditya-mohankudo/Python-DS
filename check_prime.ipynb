{
 "metadata": {
  "language_info": {
   "codemirror_mode": {
    "name": "ipython",
    "version": 3
   },
   "file_extension": ".py",
   "mimetype": "text/x-python",
   "name": "python",
   "nbconvert_exporter": "python",
   "pygments_lexer": "ipython3",
   "version": "3.8.2"
  },
  "orig_nbformat": 4,
  "kernelspec": {
   "name": "python3",
   "display_name": "Python 3.8.2 64-bit"
  },
  "interpreter": {
   "hash": "31f2aee4e71d21fbe5cf8b01ff0e069b9275f58929596ceb00d14d90e3e16cd6"
  }
 },
 "nbformat": 4,
 "nbformat_minor": 2,
 "cells": [
  {
   "cell_type": "code",
   "execution_count": 7,
   "metadata": {},
   "outputs": [],
   "source": [
    "### is_prime(number) = if number % p1 !=0 for all p1(prime numbers)  < (sqrt(number) + 1)\n",
    "import math\n",
    "def check_prime(N, prime_numbers_found = [2]):\n",
    "    if int(math.sqrt(N)) + 1 >= prime_numbers_found[-1]:\n",
    "        divisor_range = range(2, int(math.sqrt(N)) + 1)\n",
    "    else:\n",
    "        divisor_range = prime_numbers_found\n",
    "\n",
    "    for number in divisor_range:\n",
    "        if number not in prime_numbers_found:\n",
    "             if check_prime(number, prime_numbers_found):\n",
    "                prime_numbers_found.append(number)\n",
    "                if N % number == 0:\n",
    "                    return False\n",
    "        else:\n",
    "            if N % number == 0:\n",
    "                    return False\n",
    "\n",
    "    return True"
   ]
  },
  {
   "cell_type": "code",
   "execution_count": 8,
   "metadata": {
    "tags": []
   },
   "outputs": [
    {
     "output_type": "stream",
     "name": "stdout",
     "text": [
      "2\n3\n5\n7\n11\n13\n17\n19\n23\n29\n31\n37\n41\n43\n47\n53\n59\n61\n67\n71\n73\n79\n83\n89\n97\n101\n103\n107\n109\n113\n127\n131\n137\n139\n149\n151\n157\n163\n167\n173\n179\n181\n191\n193\n197\n199\n"
     ]
    }
   ],
   "source": [
    "for i in range(2, 200):\n",
    "    if check_prime(i):\n",
    "        print(i)\n"
   ]
  },
  {
   "cell_type": "code",
   "execution_count": null,
   "metadata": {},
   "outputs": [],
   "source": []
  },
  {
   "cell_type": "code",
   "execution_count": null,
   "metadata": {},
   "outputs": [],
   "source": []
  }
 ]
}