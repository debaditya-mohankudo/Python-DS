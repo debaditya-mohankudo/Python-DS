{
 "cells": [
  {
   "cell_type": "markdown",
   "metadata": {},
   "source": [
    "## Fibonacci  - simplest and most elegant ( not most efficient)"
   ]
  },
  {
   "cell_type": "code",
   "execution_count": null,
   "metadata": {},
   "outputs": [],
   "source": [
    "def fib(n): # not very efficient -> too many duplicate calls with increase in input\n",
    "    \"\"\"asssume n> 1\"\"\"\n",
    "    if n <= 2:\n",
    "        return 1\n",
    "    else:\n",
    "        return  fib(n-1) + fib(n-2)"
   ]
  },
  {
   "cell_type": "code",
   "execution_count": null,
   "metadata": {},
   "outputs": [],
   "source": [
    "\n",
    "fib(5)"
   ]
  },
  {
   "cell_type": "markdown",
   "metadata": {},
   "source": [
    "![alt text](fib.png \"Fibonacci\")"
   ]
  },
  {
   "cell_type": "markdown",
   "metadata": {},
   "source": [
    "## Fibonacci using memoization - storing earlier recursion results in a dictionary"
   ]
  },
  {
   "cell_type": "code",
   "execution_count": null,
   "metadata": {},
   "outputs": [],
   "source": [
    "from collections import defaultdict\n",
    "\n",
    "def fib(n, memoize=None):\n",
    "    if memoize is None:\n",
    "        memoize = dict()\n",
    "    if n in memoize:\n",
    "        return memoize[n]\n",
    "    \n",
    "    if n <= 2:\n",
    "        memoize[n] = 1\n",
    "    else:\n",
    "        memoize[n] = fib(n-1) + fib(n-2)\n",
    "    return memoize[n]"
   ]
  },
  {
   "cell_type": "code",
   "execution_count": null,
   "metadata": {},
   "outputs": [],
   "source": [
    "%%timeit\n",
    "fib(53)"
   ]
  },
  {
   "cell_type": "markdown",
   "metadata": {},
   "source": [
    "## upside down memoization"
   ]
  },
  {
   "cell_type": "code",
   "execution_count": null,
   "metadata": {},
   "outputs": [],
   "source": [
    "from collections import defaultdict\n",
    "def fib(n, memo=list()):\n",
    "    for num in range(1, n+1):\n",
    "        if num <= 2:\n",
    "            memo.append(1)\n",
    "        else:\n",
    "            memo.append(memo[-1] + memo[-2])\n",
    "    return memo[n-1]"
   ]
  },
  {
   "cell_type": "code",
   "execution_count": null,
   "metadata": {},
   "outputs": [],
   "source": [
    "%%timeit\n",
    "fib(53)"
   ]
  },
  {
   "cell_type": "markdown",
   "metadata": {},
   "source": [
    "## fibonacci using simple iteration"
   ]
  },
  {
   "cell_type": "code",
   "execution_count": null,
   "metadata": {},
   "outputs": [],
   "source": [
    "# better than recursion fibonacci ??\n",
    "def fib(n):\n",
    "    x, y = 1, 1 # one iteration over\n",
    "    for i in range(n-1):\n",
    "        x, y = y, x+y\n",
    "    return x"
   ]
  },
  {
   "cell_type": "code",
   "execution_count": null,
   "metadata": {},
   "outputs": [],
   "source": [
    "%%timeit\n",
    "fib(53)"
   ]
  },
  {
   "cell_type": "markdown",
   "metadata": {},
   "source": [
    "## Find all combinations given a string using recursion"
   ]
  },
  {
   "cell_type": "code",
   "execution_count": 3,
   "metadata": {},
   "outputs": [],
   "source": [
    "def remainingChar(str_S, char_index):\n",
    "    return str_S[:char_index] + str_S[char_index+1:] "
   ]
  },
  {
   "cell_type": "code",
   "execution_count": 4,
   "metadata": {},
   "outputs": [],
   "source": [
    "def all_combinations(str_S):\n",
    "    res_L = []\n",
    "\n",
    "    if len(str_S) == 1:#base case\n",
    "        return str_S\n",
    "\n",
    "    else: #recursive case\n",
    "        for i, char in enumerate(str_S):\n",
    "            for combi in all_combinations(remainingChar(str_S, i)):\n",
    "                res_L.append(char + combi)\n",
    "        return res_L\n"
   ]
  },
  {
   "cell_type": "code",
   "execution_count": 5,
   "metadata": {},
   "outputs": [
    {
     "name": "stdout",
     "output_type": "stream",
     "text": [
      "1.1 ms ± 32.5 µs per loop (mean ± std. dev. of 7 runs, 1000 loops each)\n"
     ]
    }
   ],
   "source": [
    "%%timeit\n",
    "all_combinations('abcdef')"
   ]
  },
  {
   "cell_type": "markdown",
   "metadata": {},
   "source": [
    "## use memoization"
   ]
  },
  {
   "cell_type": "code",
   "execution_count": 6,
   "metadata": {},
   "outputs": [],
   "source": [
    "from collections import defaultdict\n",
    "def all_combinations(str_S, memo=None):\n",
    "    if memo is None:\n",
    "        memo = defaultdict(list)\n",
    "    if str_S in memo:\n",
    "        return memo[str_S]\n",
    "    elif len(str_S) == 1:#base case\n",
    "        memo[str_S].append(str_S)\n",
    "    else: #recursive case\n",
    "        for i, char in enumerate(str_S):\n",
    "            for combi in all_combinations(remainingChar(str_S, i), memo):\n",
    "                memo[str_S].append(char + combi)\n",
    "    return memo[str_S]\n"
   ]
  },
  {
   "cell_type": "code",
   "execution_count": 7,
   "metadata": {},
   "outputs": [
    {
     "name": "stdout",
     "output_type": "stream",
     "text": [
      "399 µs ± 12.4 µs per loop (mean ± std. dev. of 7 runs, 1000 loops each)\n"
     ]
    }
   ],
   "source": [
    "%%timeit\n",
    "all_combinations('abcdef')  #1000 times faster LOL"
   ]
  },
  {
   "cell_type": "markdown",
   "metadata": {},
   "source": [
    "## Find all combinations given a string using recursion - list comprehension"
   ]
  },
  {
   "cell_type": "code",
   "execution_count": null,
   "metadata": {},
   "outputs": [],
   "source": [
    "def all_combinations(str_S): #base case\n",
    "    if len(str_S) <= 1:\n",
    "        return str_S\n",
    "    return [char + combinations for i, char in enumerate(str_S) for combinations in all_combinations(remainingChar(str_S, i))]"
   ]
  },
  {
   "cell_type": "code",
   "execution_count": null,
   "metadata": {},
   "outputs": [],
   "source": [
    "%%timeit\n",
    "all_combinations('abcdef')"
   ]
  },
  {
   "cell_type": "markdown",
   "metadata": {},
   "source": [
    "## Find all combinations given a string using tail recursion"
   ]
  },
  {
   "cell_type": "code",
   "execution_count": null,
   "metadata": {},
   "outputs": [],
   "source": [
    "def all_combinations(str_S, word='', res_L=None):\n",
    "    if res_L is None:\n",
    "        res_L = []\n",
    "\n",
    "    if len(str_S) == 1:#base case\n",
    "        res_L.append(word + str_S)\n",
    "        #return str_S no need to return here, tail recursion -> incremental output part of input\n",
    "\n",
    "    else: #recursive case\n",
    "        for i, char in enumerate(str_S):\n",
    "            all_combinations(remainingChar(str_S, i), word + char, res_L)\n",
    "    return res_L"
   ]
  },
  {
   "cell_type": "code",
   "execution_count": null,
   "metadata": {},
   "outputs": [],
   "source": [
    "%%timeit\n",
    "all_combinations('abcdef')"
   ]
  },
  {
   "cell_type": "markdown",
   "metadata": {},
   "source": [
    "## Find GCD of two numbers - recursion ( Euclid's algorithm O(log(n))"
   ]
  },
  {
   "cell_type": "code",
   "execution_count": null,
   "metadata": {},
   "outputs": [],
   "source": [
    "def find_gcd(num_N1, num_N2):\n",
    "    if num_N1 == 0:\n",
    "        return num_N2\n",
    "    elif num_N2 == 0:\n",
    "        return num_N1\n",
    "    elif num_N1 == 1 or num_N2 == 1:\n",
    "        return 1\n",
    "    return find_gcd(min(num_N1, num_N2), max(num_N1, num_N2)%min(num_N1, num_N2))"
   ]
  },
  {
   "cell_type": "code",
   "execution_count": null,
   "metadata": {},
   "outputs": [],
   "source": [
    "find_gcd(3, 27)"
   ]
  },
  {
   "cell_type": "code",
   "execution_count": null,
   "metadata": {},
   "outputs": [],
   "source": [
    "find_gcd(3, 5)"
   ]
  },
  {
   "cell_type": "markdown",
   "metadata": {},
   "source": [
    "## check palindrome"
   ]
  },
  {
   "cell_type": "code",
   "execution_count": null,
   "metadata": {},
   "outputs": [],
   "source": [
    "def is_pal(str_S):\n",
    "    if len(str_S) == 1 or len(str_S) == 0:#base case\n",
    "        return True\n",
    "    else:#recursive case\n",
    "        if str_S[0] == str_S[-1]:\n",
    "            return is_pal(str_S[1:-1])\n",
    "        else:\n",
    "            return False"
   ]
  },
  {
   "cell_type": "code",
   "execution_count": null,
   "metadata": {},
   "outputs": [],
   "source": [
    "is_pal('racecar')"
   ]
  },
  {
   "cell_type": "code",
   "execution_count": null,
   "metadata": {},
   "outputs": [],
   "source": [
    "is_pal('abddba')"
   ]
  },
  {
   "cell_type": "code",
   "execution_count": null,
   "metadata": {},
   "outputs": [],
   "source": [
    "is_pal('adgdg')"
   ]
  },
  {
   "cell_type": "markdown",
   "metadata": {},
   "source": [
    "## decimal to binary"
   ]
  },
  {
   "cell_type": "code",
   "execution_count": null,
   "metadata": {},
   "outputs": [],
   "source": [
    "def dec_to_binary(number):\n",
    "    if number < 2:\n",
    "        return str(number)\n",
    "    else:\n",
    "        reminder = number % 2\n",
    "        remaining = number // 2\n",
    "        return dec_to_binary(remaining) + str(reminder)"
   ]
  },
  {
   "cell_type": "code",
   "execution_count": null,
   "metadata": {},
   "outputs": [],
   "source": [
    "dec_to_binary(11)"
   ]
  },
  {
   "cell_type": "code",
   "execution_count": null,
   "metadata": {},
   "outputs": [],
   "source": [
    "dec_to_binary(16)"
   ]
  },
  {
   "cell_type": "markdown",
   "metadata": {},
   "source": [
    "## Number Complement LeetCode coding solution"
   ]
  },
  {
   "cell_type": "code",
   "execution_count": null,
   "metadata": {},
   "outputs": [],
   "source": [
    "#given a number say 5, find the binary complement\n",
    "#5 =  101 -> number\n",
    "#now flip the bits\n",
    "#2 =  010 -> result = 111 - number \n",
    "\n",
    "#Can be done in O(log(n))\n",
    "#result =  2 pow (length of binary) - 1 - number\n",
    "def findBinarayComplement(number):\n",
    "    init = 1\n",
    "    while True:\n",
    "        if number == init-1:\n",
    "            return 0\n",
    "        elif number > init-1:\n",
    "            init *= 2\n",
    "        else:\n",
    "            result = init -1 - number\n",
    "            return result"
   ]
  },
  {
   "cell_type": "code",
   "execution_count": null,
   "metadata": {},
   "outputs": [],
   "source": [
    "findBinarayComplement(7)"
   ]
  },
  {
   "cell_type": "code",
   "execution_count": null,
   "metadata": {},
   "outputs": [],
   "source": [
    "findBinarayComplement(5)"
   ]
  },
  {
   "cell_type": "markdown",
   "metadata": {},
   "source": [
    "## pow of n"
   ]
  },
  {
   "cell_type": "code",
   "execution_count": null,
   "metadata": {},
   "outputs": [],
   "source": [
    "# a pow n = a pow n%2 * square(a) pow(n//2)\n",
    "# square(a pow n//2) = square(a) pow n//2\n",
    "def powofn(a, n):\n",
    "    if n == 0:\n",
    "        return 1\n",
    "    elif n == 1:\n",
    "        return a\n",
    "    else:\n",
    "        return powofn(a, n%2) * powofn(a*a, n//2)"
   ]
  },
  {
   "cell_type": "code",
   "execution_count": null,
   "metadata": {},
   "outputs": [],
   "source": [
    "powofn(3, 6)"
   ]
  },
  {
   "cell_type": "markdown",
   "metadata": {},
   "source": [
    "## mininum number of steps\n",
    "Given a number line from -infinity to +infinity. \n",
    "You start at 0 and can go either to the left or to the right. \n",
    "The condition is that in i’th move, you take i steps. \n",
    "You are given a Destination , you have to print the minimum number of steps required to reach that destination."
   ]
  },
  {
   "cell_type": "code",
   "execution_count": 8,
   "metadata": {},
   "outputs": [],
   "source": [
    "#https://practice.geeksforgeeks.org/problems/minimum-number-of-steps-to-reach-a-given-number/0\n",
    "# go straight till n(n+1)/2 <= number -> 2 * number => n(n+1) # 2 * number  ~=> sq(n) + n = sq(n+0.5) - 0.25\n",
    "# if (2 * num - sqrt(2*num) > sqrt(2*num))\n",
    "# no_of_steps = sqrt(2*num) else no_of_steps = sqrt(2*num) -1\n",
    "from math import sqrt\n",
    "def no_straight_steps(num):\n",
    "    sqrt_ = sqrt(2 *num + 0.25)\n",
    "    return int(sqrt_ - 0.5)\n",
    "\n",
    "\n",
    "def no_of_zigzag_steps(num, num_reached_straight):\n",
    "    return abs(2 * (abs(num) - abs(num_reached_straight)))\n",
    "        \n",
    "def min_step_to_reach(num):\n",
    "    #check number if positive keep going right but greater than number -> then zigzag\n",
    "    #check number if negative keep going left but lesser than number -> then zigzag\n",
    "    straight_steps = no_straight_steps(abs(num))\n",
    "    no_reached_straight = int(straight_steps * (straight_steps+1)) // 2\n",
    "    zigzag_steps = no_of_zigzag_steps(num, no_reached_straight)\n",
    "    return straight_steps + zigzag_steps\n"
   ]
  },
  {
   "cell_type": "code",
   "execution_count": 9,
   "metadata": {},
   "outputs": [
    {
     "data": {
      "text/plain": [
       "39"
      ]
     },
     "execution_count": 9,
     "metadata": {},
     "output_type": "execute_result"
    }
   ],
   "source": [
    "min_step_to_reach(384)"
   ]
  },
  {
   "cell_type": "code",
   "execution_count": 10,
   "metadata": {},
   "outputs": [
    {
     "data": {
      "text/plain": [
       "27"
      ]
     },
     "execution_count": 10,
     "metadata": {},
     "output_type": "execute_result"
    }
   ],
   "source": [
    "no_straight_steps(384)"
   ]
  },
  {
   "cell_type": "code",
   "execution_count": 11,
   "metadata": {},
   "outputs": [
    {
     "data": {
      "text/plain": [
       "12"
      ]
     },
     "execution_count": 11,
     "metadata": {},
     "output_type": "execute_result"
    }
   ],
   "source": [
    "no_of_zigzag_steps(384, 27 * 28 // 2)"
   ]
  },
  {
   "cell_type": "code",
   "execution_count": null,
   "metadata": {},
   "outputs": [],
   "source": []
  }
 ],
 "metadata": {
  "kernelspec": {
   "display_name": "Python 3",
   "language": "python",
   "name": "python3"
  },
  "language_info": {
   "codemirror_mode": {
    "name": "ipython",
    "version": 3
   },
   "file_extension": ".py",
   "mimetype": "text/x-python",
   "name": "python",
   "nbconvert_exporter": "python",
   "pygments_lexer": "ipython3",
   "version": "3.7.5"
  }
 },
 "nbformat": 4,
 "nbformat_minor": 4
}
