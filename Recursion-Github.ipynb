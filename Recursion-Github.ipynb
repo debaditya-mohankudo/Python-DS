{
 "cells": [
  {
   "cell_type": "markdown",
   "metadata": {},
   "source": [
    "## Fibonacci  - simplest and most elegant ( not most efficient)"
   ]
  },
  {
   "cell_type": "code",
   "execution_count": null,
   "metadata": {},
   "outputs": [],
   "source": [
    "def fib(n): # not very efficient -> too many duplicate calls with increase in input\n",
    "    \"\"\"asssume n> 1\"\"\"\n",
    "    if n <= 2:\n",
    "        return 1\n",
    "    else:\n",
    "        return  fib(n-1) + fib(n-2)"
   ]
  },
  {
   "cell_type": "code",
   "execution_count": null,
   "metadata": {},
   "outputs": [],
   "source": [
    "\n",
    "fib(5)"
   ]
  },
  {
   "cell_type": "markdown",
   "metadata": {},
   "source": [
    "![alt text](fib.png \"Fibonacci\")"
   ]
  },
  {
   "cell_type": "markdown",
   "metadata": {},
   "source": [
    "## Fibonacci using memoization - storing earlier recursion results in a dictionary"
   ]
  },
  {
   "cell_type": "code",
   "execution_count": null,
   "metadata": {},
   "outputs": [],
   "source": [
    "from collections import defaultdict\n",
    "\n",
    "def fib(n, memoize=None):\n",
    "    if memoize is None:\n",
    "        memoize = dict()\n",
    "    if n in memoize:\n",
    "        return memoize[n]\n",
    "    \n",
    "    if n <= 2:\n",
    "        memoize[n] = 1\n",
    "    else:\n",
    "        memoize[n] = fib(n-1) + fib(n-2)\n",
    "    return memoize[n]"
   ]
  },
  {
   "cell_type": "code",
   "execution_count": null,
   "metadata": {},
   "outputs": [],
   "source": [
    "%%timeit\n",
    "fib(53)"
   ]
  },
  {
   "cell_type": "markdown",
   "metadata": {},
   "source": [
    "## upside down memoization"
   ]
  },
  {
   "cell_type": "code",
   "execution_count": null,
   "metadata": {},
   "outputs": [],
   "source": [
    "from collections import defaultdict\n",
    "def fib(n, memo=list()):\n",
    "    for num in range(1, n+1):\n",
    "        if num <= 2:\n",
    "            memo.append(1)\n",
    "        else:\n",
    "            memo.append(memo[-1] + memo[-2])\n",
    "    return memo[n-1]"
   ]
  },
  {
   "cell_type": "code",
   "execution_count": null,
   "metadata": {},
   "outputs": [],
   "source": [
    "%%timeit\n",
    "fib(53)"
   ]
  },
  {
   "cell_type": "markdown",
   "metadata": {},
   "source": [
    "## fibonacci using simple iteration"
   ]
  },
  {
   "cell_type": "code",
   "execution_count": null,
   "metadata": {},
   "outputs": [],
   "source": [
    "# better than recursion fibonacci ??\n",
    "def fib(n):\n",
    "    x, y = 1, 1 # one iteration over\n",
    "    for i in range(n-1):\n",
    "        x, y = y, x+y\n",
    "    return x"
   ]
  },
  {
   "cell_type": "code",
   "execution_count": null,
   "metadata": {},
   "outputs": [],
   "source": [
    "%%timeit\n",
    "fib(53)"
   ]
  },
  {
   "cell_type": "markdown",
   "metadata": {},
   "source": [
    "## Find all combinations given a string using recursion"
   ]
  },
  {
   "cell_type": "code",
   "execution_count": 3,
   "metadata": {},
   "outputs": [],
   "source": [
    "def remainingChar(str_S, char_index):\n",
    "    return str_S[:char_index] + str_S[char_index+1:] "
   ]
  },
  {
   "cell_type": "code",
   "execution_count": 4,
   "metadata": {},
   "outputs": [],
   "source": [
    "def all_combinations(str_S):\n",
    "    res_L = []\n",
    "\n",
    "    if len(str_S) == 1:#base case\n",
    "        return str_S\n",
    "\n",
    "    else: #recursive case\n",
    "        for i, char in enumerate(str_S):\n",
    "            for combi in all_combinations(remainingChar(str_S, i)):\n",
    "                res_L.append(char + combi)\n",
    "        return res_L\n"
   ]
  },
  {
   "cell_type": "code",
   "execution_count": 5,
   "metadata": {},
   "outputs": [
    {
     "name": "stdout",
     "output_type": "stream",
     "text": [
      "1.1 ms ± 32.5 µs per loop (mean ± std. dev. of 7 runs, 1000 loops each)\n"
     ]
    }
   ],
   "source": [
    "%%timeit\n",
    "all_combinations('abcdef')"
   ]
  },
  {
   "cell_type": "markdown",
   "metadata": {},
   "source": [
    "## use memoization"
   ]
  },
  {
   "cell_type": "code",
   "execution_count": 23,
   "metadata": {},
   "outputs": [],
   "source": [
    "from collections import defaultdict\n",
    "def all_combinations(str_S, memo=None):\n",
    "    if memo is None:\n",
    "        memo = defaultdict(list)\n",
    "    if str_S in memo:\n",
    "        return memo[str_S]\n",
    "    elif len(str_S) == 1:#base case\n",
    "        memo[str_S].append(str_S)\n",
    "    else: #recursive case\n",
    "        for i, char in enumerate(str_S):\n",
    "            for combi in all_combinations(remainingChar(str_S, i), memo):\n",
    "                memo[str_S].append(char + combi)\n",
    "    return memo[str_S]\n"
   ]
  },
  {
   "cell_type": "code",
   "execution_count": 24,
   "metadata": {},
   "outputs": [
    {
     "data": {
      "text/plain": [
       "720"
      ]
     },
     "execution_count": 24,
     "metadata": {},
     "output_type": "execute_result"
    }
   ],
   "source": [
    "\n",
    "len(all_combinations('abcdef'))  #1000 times faster LOL"
   ]
  },
  {
   "cell_type": "markdown",
   "metadata": {},
   "source": [
    "## Find all combinations given a string using recursion - list comprehension"
   ]
  },
  {
   "cell_type": "code",
   "execution_count": null,
   "metadata": {},
   "outputs": [],
   "source": [
    "def all_combinations(str_S): #base case\n",
    "    if len(str_S) <= 1:\n",
    "        return str_S\n",
    "    return [char + combinations for i, char in enumerate(str_S) for combinations in all_combinations(remainingChar(str_S, i))]"
   ]
  },
  {
   "cell_type": "code",
   "execution_count": null,
   "metadata": {},
   "outputs": [],
   "source": [
    "%%timeit\n",
    "all_combinations('abcdef')"
   ]
  },
  {
   "cell_type": "markdown",
   "metadata": {},
   "source": [
    "## Find all combinations given a string using tail recursion"
   ]
  },
  {
   "cell_type": "code",
   "execution_count": null,
   "metadata": {},
   "outputs": [],
   "source": [
    "def all_combinations(str_S, word='', res_L=None):\n",
    "    if res_L is None:\n",
    "        res_L = []\n",
    "\n",
    "    if len(str_S) == 1:#base case\n",
    "        res_L.append(word + str_S)\n",
    "        #return str_S no need to return here, tail recursion -> incremental output part of input\n",
    "\n",
    "    else: #recursive case\n",
    "        for i, char in enumerate(str_S):\n",
    "            all_combinations(remainingChar(str_S, i), word + char, res_L)\n",
    "    return res_L"
   ]
  },
  {
   "cell_type": "code",
   "execution_count": null,
   "metadata": {},
   "outputs": [],
   "source": [
    "%%timeit\n",
    "all_combinations('abcdef')"
   ]
  },
  {
   "cell_type": "markdown",
   "metadata": {},
   "source": [
    "## Increasing order or numbers"
   ]
  },
  {
   "cell_type": "code",
   "execution_count": 59,
   "metadata": {},
   "outputs": [],
   "source": [
    "def inc_num(size, num=1 ):\n",
    "    if size == 1:\n",
    "        return list(range(num, 10)) # all single digit numbers from num to 9\n",
    "    else:\n",
    "        return [(i * pow(10, size-1) + num) for i in range(num, 10) for num in inc_num(size-1, i+1) ]"
   ]
  },
  {
   "cell_type": "code",
   "execution_count": 70,
   "metadata": {},
   "outputs": [
    {
     "data": {
      "text/plain": [
       "84"
      ]
     },
     "execution_count": 70,
     "metadata": {},
     "output_type": "execute_result"
    }
   ],
   "source": [
    "len(inc_num(6))"
   ]
  },
  {
   "cell_type": "code",
   "execution_count": 71,
   "metadata": {},
   "outputs": [
    {
     "name": "stdout",
     "output_type": "stream",
     "text": [
      "257 µs ± 2.44 µs per loop (mean ± std. dev. of 7 runs, 1000 loops each)\n"
     ]
    }
   ],
   "source": [
    "%%timeit\n",
    "len(inc_num(5))"
   ]
  },
  {
   "cell_type": "markdown",
   "metadata": {},
   "source": [
    "## using memoize"
   ]
  },
  {
   "cell_type": "code",
   "execution_count": 72,
   "metadata": {},
   "outputs": [],
   "source": [
    "from collections import defaultdict\n",
    "def inc_num(size, memo=None, num=1 ):\n",
    "    if memo is None:\n",
    "        memo=defaultdict(list)\n",
    "    if memo[(size, num)]:\n",
    "        return memo[(size, num)]\n",
    "    if size == 1:\n",
    "        return list(range(num, 10)) # all single digit numbers from num to 9\n",
    "    else:\n",
    "        memo[(size, num)] = [(i * pow(10, size-1) + num) for i in range(num, 10) for num in inc_num(size-1, memo, i+1) ]\n",
    "    return memo[(size, num)]"
   ]
  },
  {
   "cell_type": "code",
   "execution_count": 74,
   "metadata": {},
   "outputs": [
    {
     "data": {
      "text/plain": [
       "84"
      ]
     },
     "execution_count": 74,
     "metadata": {},
     "output_type": "execute_result"
    }
   ],
   "source": [
    "len(inc_num(6))"
   ]
  },
  {
   "cell_type": "code",
   "execution_count": 75,
   "metadata": {},
   "outputs": [
    {
     "name": "stdout",
     "output_type": "stream",
     "text": [
      "263 µs ± 36.2 µs per loop (mean ± std. dev. of 7 runs, 1000 loops each)\n"
     ]
    }
   ],
   "source": [
    "%%timeit\n",
    "len(inc_num(5))"
   ]
  },
  {
   "cell_type": "markdown",
   "metadata": {},
   "source": [
    "## Find GCD of two numbers - recursion ( Euclid's algorithm O(log(n))"
   ]
  },
  {
   "cell_type": "code",
   "execution_count": 27,
   "metadata": {},
   "outputs": [],
   "source": [
    "def find_gcd(num_N1, num_N2):\n",
    "    if num_N1 == 0:\n",
    "        return num_N2\n",
    "    elif num_N2 == 0:\n",
    "        return num_N1\n",
    "    elif num_N1 == 1 or num_N2 == 1:\n",
    "        return 1\n",
    "    return find_gcd(min(num_N1, num_N2), max(num_N1, num_N2)%min(num_N1, num_N2))"
   ]
  },
  {
   "cell_type": "code",
   "execution_count": 29,
   "metadata": {},
   "outputs": [
    {
     "data": {
      "text/plain": [
       "9"
      ]
     },
     "execution_count": 29,
     "metadata": {},
     "output_type": "execute_result"
    }
   ],
   "source": [
    "find_gcd(18, 27)"
   ]
  },
  {
   "cell_type": "code",
   "execution_count": null,
   "metadata": {},
   "outputs": [],
   "source": [
    "find_gcd(3, 5)"
   ]
  },
  {
   "cell_type": "markdown",
   "metadata": {},
   "source": [
    "## check palindrome"
   ]
  },
  {
   "cell_type": "code",
   "execution_count": null,
   "metadata": {},
   "outputs": [],
   "source": [
    "def is_pal(str_S):\n",
    "    if len(str_S) == 1 or len(str_S) == 0:#base case\n",
    "        return True\n",
    "    else:#recursive case\n",
    "        if str_S[0] == str_S[-1]:\n",
    "            return is_pal(str_S[1:-1])\n",
    "        else:\n",
    "            return False"
   ]
  },
  {
   "cell_type": "code",
   "execution_count": null,
   "metadata": {},
   "outputs": [],
   "source": [
    "is_pal('racecar')"
   ]
  },
  {
   "cell_type": "code",
   "execution_count": null,
   "metadata": {},
   "outputs": [],
   "source": [
    "is_pal('abddba')"
   ]
  },
  {
   "cell_type": "code",
   "execution_count": null,
   "metadata": {},
   "outputs": [],
   "source": [
    "is_pal('adgdg')"
   ]
  },
  {
   "cell_type": "markdown",
   "metadata": {},
   "source": [
    "## decimal to binary"
   ]
  },
  {
   "cell_type": "code",
   "execution_count": null,
   "metadata": {},
   "outputs": [],
   "source": [
    "def dec_to_binary(number):\n",
    "    if number < 2:\n",
    "        return str(number)\n",
    "    else:\n",
    "        reminder = number % 2\n",
    "        remaining = number // 2\n",
    "        return dec_to_binary(remaining) + str(reminder)"
   ]
  },
  {
   "cell_type": "code",
   "execution_count": null,
   "metadata": {},
   "outputs": [],
   "source": [
    "dec_to_binary(11)"
   ]
  },
  {
   "cell_type": "code",
   "execution_count": null,
   "metadata": {},
   "outputs": [],
   "source": [
    "dec_to_binary(16)"
   ]
  },
  {
   "cell_type": "markdown",
   "metadata": {},
   "source": [
    "## Number Complement LeetCode coding solution"
   ]
  },
  {
   "cell_type": "code",
   "execution_count": null,
   "metadata": {},
   "outputs": [],
   "source": [
    "#given a number say 5, find the binary complement\n",
    "#5 =  101 -> number\n",
    "#now flip the bits\n",
    "#2 =  010 -> result = 111 - number \n",
    "\n",
    "#Can be done in O(log(n))\n",
    "#result =  2 pow (length of binary) - 1 - number\n",
    "def findBinarayComplement(number):\n",
    "    init = 1\n",
    "    while True:\n",
    "        if number == init-1:\n",
    "            return 0\n",
    "        elif number > init-1:\n",
    "            init *= 2\n",
    "        else:\n",
    "            result = init -1 - number\n",
    "            return result"
   ]
  },
  {
   "cell_type": "code",
   "execution_count": null,
   "metadata": {},
   "outputs": [],
   "source": [
    "findBinarayComplement(7)"
   ]
  },
  {
   "cell_type": "code",
   "execution_count": null,
   "metadata": {},
   "outputs": [],
   "source": [
    "findBinarayComplement(5)"
   ]
  },
  {
   "cell_type": "markdown",
   "metadata": {},
   "source": [
    "## pow of n"
   ]
  },
  {
   "cell_type": "code",
   "execution_count": null,
   "metadata": {},
   "outputs": [],
   "source": [
    "# a pow n = a pow n%2 * square(a) pow(n//2)\n",
    "# square(a pow n//2) = square(a) pow n//2\n",
    "def powofn(a, n):\n",
    "    if n == 0:\n",
    "        return 1\n",
    "    elif n == 1:\n",
    "        return a\n",
    "    else:\n",
    "        return powofn(a, n%2) * powofn(a*a, n//2)"
   ]
  },
  {
   "cell_type": "code",
   "execution_count": null,
   "metadata": {},
   "outputs": [],
   "source": [
    "powofn(3, 6)"
   ]
  },
  {
   "cell_type": "markdown",
   "metadata": {},
   "source": [
    "## mininum number of steps(wip) \n",
    "Given a number line from -infinity to +infinity. \n",
    "You start at 0 and can go either to the left or to the right. \n",
    "The condition is that in i’th move, you take i steps. \n",
    "You are given a Destination , you have to print the minimum number of steps required to reach that destination."
   ]
  },
  {
   "cell_type": "raw",
   "metadata": {},
   "source": [
    "solving n(n+1)/2 = number\n",
    "n*n + n = 2 * number\n",
    "n*n + 2*.5 * n + 0.5*0.5 = 2*number + 0.25\n",
    "(n+0.5) * (n+0.5) = 2*number + 0.25\n",
    "n+0.5 = sqrt(2*number +0.25)\n",
    "n = sqrt(2*number + 0.25) - 0.5"
   ]
  },
  {
   "cell_type": "code",
   "execution_count": 114,
   "metadata": {},
   "outputs": [],
   "source": [
    "#https://practice.geeksforgeeks.org/problems/minimum-number-of-steps-to-reach-a-given-number/0\n",
    "from math import sqrt\n",
    "def no_straight_steps(num):\n",
    "    sqrt_ = sqrt(2 *num + 0.25)\n",
    "    \n",
    "    return int(sqrt_ - 0.5)\n",
    "        \n",
    "def min_step_to_reach(num):\n",
    "    straight_steps = no_straight_steps(abs(num))\n",
    "    while straight_steps**2 + straight_steps < 2*num or ((straight_steps**2 + straight_steps)//2 - num) % 2 > 0:\n",
    "        straight_steps += 1\n",
    "\n",
    "    return straight_steps\n",
    "\n",
    "def find_series_of_numbers(num):\n",
    "    list_of_steps = list(range(min_step_to_reach(num) + 1))\n",
    "    diff = (sum(list_of_steps) - num) // 2\n",
    "    #print(sum(list_of_steps), num, diff * 2, max(list_of_steps))\n",
    "    if diff <= abs(max(list_of_steps)):\n",
    "        list_of_steps[diff] = 0 - list_of_steps[diff]\n",
    "    else:\n",
    "        list_of_steps[-1] = 0 - list_of_steps[-1]\n",
    "        list_of_steps[diff - abs(list_of_steps[-1])] = 0 - list_of_steps[diff - abs(list_of_steps[-1])]\n",
    "    return list_of_steps"
   ]
  },
  {
   "cell_type": "code",
   "execution_count": 117,
   "metadata": {},
   "outputs": [
    {
     "name": "stdout",
     "output_type": "stream",
     "text": [
      "0 1 2 3 4 5 6 7 8 9 10 -11 12 13 14 15 16 17 18 19 20 21 22 23 24 25 26 27 28 29 30 31 32 33 34 35 36 37 38 39 40 41 42 43 44 45\n"
     ]
    }
   ],
   "source": [
    "print(*find_series_of_numbers(1013))"
   ]
  },
  {
   "cell_type": "code",
   "execution_count": 119,
   "metadata": {},
   "outputs": [
    {
     "data": {
      "text/plain": [
       "22"
      ]
     },
     "execution_count": 119,
     "metadata": {},
     "output_type": "execute_result"
    }
   ],
   "source": [
    "45 * 46 //2 -1013"
   ]
  },
  {
   "cell_type": "markdown",
   "metadata": {},
   "source": [
    "## happy number"
   ]
  },
  {
   "cell_type": "code",
   "execution_count": 18,
   "metadata": {},
   "outputs": [],
   "source": [
    "\"\"\"\n",
    "For a given non-negative integer N, find the next smallest Happy Number.\n",
    "A number is called happy if it leads to 1 after a sequence of steps where in each step number is replaced by sum of squares of its digit \n",
    "that is if we start with Happy Number and keep replacing it with digits square sum, we reach 1.\n",
    "\"\"\"\n",
    "def find_next_happy(int_tc):\n",
    "    \"\"\"finds the next happy number\"\"\"\n",
    "    int_tc += 1\n",
    "    if is_happy(int_tc):\n",
    "        return int_tc\n",
    "    else:\n",
    "        return find_next_happy(int_tc)\n",
    "\n",
    "def is_happy(int_tc, res = None):\n",
    "    \"\"\"checks if the number is a happy number\"\"\"\n",
    "    if res is None:\n",
    "        res = [int_tc]\n",
    "    \n",
    "    sum_squares = sum_of_squares_of_all_digits(res[-1])\n",
    "\n",
    "    if sum_squares == 1:\n",
    "        return True\n",
    "    elif sum_squares in res:\n",
    "        return False\n",
    "    else:\n",
    "        res.append(sum_squares)\n",
    "\n",
    "    return is_happy(int_tc, res)\n",
    "    \n",
    "def sum_of_squares_of_all_digits(number):\n",
    "    \"\"\"return sum of square of all digits\"\"\"\n",
    "    return sum([digit ** 2 for digit in get_all_digits(number)])\n",
    "\n",
    "\n",
    "def get_all_digits(number):\n",
    "    \"\"\"gets all the digits from the number right to left one bye one(yield)\"\"\"\n",
    "    while(number > 0):\n",
    "        yield int(number % 10)\n",
    "        number = (number - number % 10) / 10"
   ]
  },
  {
   "cell_type": "code",
   "execution_count": 23,
   "metadata": {},
   "outputs": [
    {
     "data": {
      "text/plain": [
       "10"
      ]
     },
     "execution_count": 23,
     "metadata": {},
     "output_type": "execute_result"
    }
   ],
   "source": [
    "find_next_happy(7)"
   ]
  },
  {
   "cell_type": "code",
   "execution_count": null,
   "metadata": {},
   "outputs": [],
   "source": []
  }
 ],
 "metadata": {
  "kernelspec": {
   "display_name": "Python 3",
   "language": "python",
   "name": "python3"
  }
 },
 "nbformat": 4,
 "nbformat_minor": 4
}
