{
 "cells": [
  {
   "cell_type": "markdown",
   "metadata": {},
   "source": [
    "## hacking decorator pattern using magic methods in Python (Prob ref: headfirst design patterns)"
   ]
  },
  {
   "cell_type": "raw",
   "metadata": {},
   "source": [
    "## Starbuzz Coffee has made a name for itself as the fastest growing coffee shop around. If you’ve seen one on your local corner, look across the street; you’ll see another one.\n",
    "\n",
    "Because they’ve grown so quickly, they’re scrambling to update their ordering systems to match their beverage offerings.\n",
    "\n",
    "In addition to your coffee, you can also ask for several condiments like steamed milk, soy, and mocha (otherwise known as chocolate), and have it all topped off with whipped milk. Starbuzz charges a bit for each of these, so they really need to get them built into their order system.\n"
   ]
  },
  {
   "cell_type": "code",
   "execution_count": 284,
   "metadata": {},
   "outputs": [],
   "source": [
    "class coffee:\n",
    "    def __init__(self, price=0, desc=''):\n",
    "        self.__price = price\n",
    "        self.__desc = desc\n",
    "        \n",
    "    def __add__(self, addOn):\n",
    "        self.__price += addOn.price\n",
    "        self.__desc += '|' + addOn.desc\n",
    "        return self\n",
    "        \n",
    "    @property\n",
    "    def price(self):\n",
    "        return self.__price\n",
    "    @price.setter\n",
    "    def price(self, value):\n",
    "        self.__price = value\n",
    "        \n",
    "    @property\n",
    "    def desc(self):\n",
    "        return self.__desc\n",
    "    @desc.setter\n",
    "    def desc(self, value):\n",
    "        self.__desc = value"
   ]
  },
  {
   "cell_type": "code",
   "execution_count": 285,
   "metadata": {},
   "outputs": [],
   "source": [
    "class addOn:\n",
    "    def __init__(self, price=0, desc=''):\n",
    "        self.__price = price\n",
    "        self.__desc = desc\n",
    "        \n",
    "    @property\n",
    "    def price(self):\n",
    "        return self.__price\n",
    "    @price.setter\n",
    "    def price(self, value):\n",
    "        self.__price = value\n",
    "        \n",
    "    @property\n",
    "    def desc(self):\n",
    "        return self.__desc\n",
    "    @desc.setter\n",
    "    def desc(self, value):\n",
    "        self.__desc = value"
   ]
  },
  {
   "cell_type": "code",
   "execution_count": 286,
   "metadata": {},
   "outputs": [],
   "source": [
    "class decaf(coffee):\n",
    "    def __init__(self):\n",
    "        super().__init__(price=10.0, desc='decaf')    "
   ]
  },
  {
   "cell_type": "code",
   "execution_count": 287,
   "metadata": {},
   "outputs": [],
   "source": [
    "class mocha(addOn):\n",
    "    def __init__(self, times=1):\n",
    "        super().__init__(price=1.0, desc='mocha')\n",
    "        self.price *= times\n",
    "        self.desc = str(times) + '-' + self.desc"
   ]
  },
  {
   "cell_type": "code",
   "execution_count": 288,
   "metadata": {},
   "outputs": [],
   "source": [
    "class soymilk(addOn):\n",
    "    def __init__(self, times=1):\n",
    "        super().__init__(price=1.5, desc='soymilk')\n",
    "        self.price *= times\n",
    "        self.desc = str(times) + '-' + self.desc"
   ]
  },
  {
   "cell_type": "code",
   "execution_count": 289,
   "metadata": {},
   "outputs": [],
   "source": [
    "order = decaf() + mocha(times=2) + soymilk(times=2)"
   ]
  },
  {
   "cell_type": "code",
   "execution_count": 290,
   "metadata": {},
   "outputs": [
    {
     "data": {
      "text/plain": [
       "15.0"
      ]
     },
     "execution_count": 290,
     "metadata": {},
     "output_type": "execute_result"
    }
   ],
   "source": [
    "order.price"
   ]
  },
  {
   "cell_type": "code",
   "execution_count": 291,
   "metadata": {},
   "outputs": [
    {
     "data": {
      "text/plain": [
       "'decaf|2-mocha|2-soymilk'"
      ]
     },
     "execution_count": 291,
     "metadata": {},
     "output_type": "execute_result"
    }
   ],
   "source": [
    "order.desc"
   ]
  },
  {
   "cell_type": "code",
   "execution_count": 294,
   "metadata": {},
   "outputs": [
    {
     "data": {
      "text/plain": [
       "__main__.decaf"
      ]
     },
     "execution_count": 294,
     "metadata": {},
     "output_type": "execute_result"
    }
   ],
   "source": [
    "type(order)"
   ]
  },
  {
   "cell_type": "raw",
   "metadata": {},
   "source": [
    "Explanation:\n",
    "    decaf() =>  an instance of subclass of coffee \n",
    "    mocha() =>  an instance of subclass of addOn\n",
    "    decaf() + mocha() => this does the trick and returns an instance of subclass of coffee \n",
    "                         and we can alway add more addOn to this subclass of coffee as long as the addOn have \n",
    "                         price and desc property."
   ]
  },
  {
   "cell_type": "markdown",
   "metadata": {},
   "source": [
    "# solving the same problem using builder pattern -> there are a certain sequence of events done on the same instance of coffee object"
   ]
  },
  {
   "cell_type": "markdown",
   "metadata": {},
   "source": [
    "soln : \n",
    "| order = decaf().addMocha(times=2).addSoymilk(times=2)\n",
    "\n",
    "In this approach we keep on changing the class coffee even though we are dealing with new add ons, which violates the S of SOLID principals which is separation of concerns. Also(O of SOLID: Open to "
   ]
  },
  {
   "cell_type": "markdown",
   "metadata": {},
   "source": [
    "This is NOT a good approach ???"
   ]
  },
  {
   "cell_type": "code",
   "execution_count": 308,
   "metadata": {},
   "outputs": [],
   "source": [
    "class coffee:\n",
    "    def __init__(self, price=0, desc=''):\n",
    "        self.__price = price\n",
    "        self.__desc = desc\n",
    "        \n",
    "    def addMocha(self, times=1):\n",
    "        self.__price += times * 1.0\n",
    "        self.__desc += '|' + str(times) + '-' + 'mocha'\n",
    "        return self\n",
    "    \n",
    "    def addSoymilk(self, times=1):\n",
    "        self.__price += times * 1.5\n",
    "        self.__desc += '|' + str(times) + '-' + 'soymilk'\n",
    "        return self\n",
    "        \n",
    "    @property\n",
    "    def price(self):\n",
    "        return self.__price\n",
    "    @price.setter\n",
    "    def price(self, value):\n",
    "        self.__price = value\n",
    "        \n",
    "    @property\n",
    "    def desc(self):\n",
    "        return self.__desc\n",
    "    @desc.setter\n",
    "    def desc(self, value):\n",
    "        self.__desc = value"
   ]
  },
  {
   "cell_type": "code",
   "execution_count": 309,
   "metadata": {},
   "outputs": [],
   "source": [
    "class decaf(coffee):\n",
    "    def __init__(self):\n",
    "        super().__init__(price=10, desc='decaf')"
   ]
  },
  {
   "cell_type": "code",
   "execution_count": 310,
   "metadata": {},
   "outputs": [],
   "source": [
    "order = decaf().addMocha(times=2).addSoymilk(times=2)"
   ]
  },
  {
   "cell_type": "code",
   "execution_count": 311,
   "metadata": {},
   "outputs": [
    {
     "data": {
      "text/plain": [
       "'decaf|2-mocha|2-soymilk'"
      ]
     },
     "execution_count": 311,
     "metadata": {},
     "output_type": "execute_result"
    }
   ],
   "source": [
    "order.desc"
   ]
  },
  {
   "cell_type": "code",
   "execution_count": 312,
   "metadata": {},
   "outputs": [
    {
     "data": {
      "text/plain": [
       "15.0"
      ]
     },
     "execution_count": 312,
     "metadata": {},
     "output_type": "execute_result"
    }
   ],
   "source": [
    "order.price"
   ]
  },
  {
   "cell_type": "code",
   "execution_count": null,
   "metadata": {},
   "outputs": [],
   "source": []
  }
 ],
 "metadata": {
  "kernelspec": {
   "display_name": "Python 3",
   "language": "python",
   "name": "python3"
  },
  "language_info": {
   "codemirror_mode": {
    "name": "ipython",
    "version": 3
   },
   "file_extension": ".py",
   "mimetype": "text/x-python",
   "name": "python",
   "nbconvert_exporter": "python",
   "pygments_lexer": "ipython3",
   "version": "3.7.4"
  }
 },
 "nbformat": 4,
 "nbformat_minor": 2
}
