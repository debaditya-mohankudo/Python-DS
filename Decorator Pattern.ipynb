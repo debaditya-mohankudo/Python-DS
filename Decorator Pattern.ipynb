{
 "cells": [
  {
   "cell_type": "markdown",
   "metadata": {},
   "source": [
    "## decorator pattern - Python (Prob ref: headfirst design patterns)"
   ]
  },
  {
   "cell_type": "raw",
   "metadata": {},
   "source": [
    "Starbuzz Coffee has made a name for itself as the fastest growing coffee shop around. If you’ve seen one on your local corner, look across the street; you’ll see another one.\n",
    "\n",
    "Because they’ve grown so quickly, they’re scrambling to update their ordering systems to match their beverage offerings.\n",
    "\n",
    "In addition to your coffee, you can also ask for several condiments like steamed milk, soy, and mocha (otherwise known as chocolate), and have it all topped off with whipped milk. Starbuzz charges a bit for each of these, so they really need to get them built into their order system.\n"
   ]
  },
  {
   "cell_type": "code",
   "execution_count": 172,
   "metadata": {},
   "outputs": [],
   "source": [
    "class coffee:\n",
    "    def __init__(self, price=0, desc=''):\n",
    "        self.__price = price\n",
    "        self.__desc = desc\n",
    "        \n",
    "    def __add__(self, addOn):\n",
    "        self.__price += addOn.price\n",
    "        self.__desc += '-' + addOn.desc\n",
    "        return self\n",
    "        \n",
    "    @property\n",
    "    def price(self):\n",
    "        return self.__price\n",
    "    @price.setter\n",
    "    def price(self, value):\n",
    "        self.__price = value\n",
    "        \n",
    "    @property\n",
    "    def desc(self):\n",
    "        return self.__desc\n",
    "    @desc.setter\n",
    "    def desc(self, value):\n",
    "        self.__desc = value\n",
    "    \n",
    "    "
   ]
  },
  {
   "cell_type": "code",
   "execution_count": 179,
   "metadata": {},
   "outputs": [],
   "source": [
    "class decaf(coffee):\n",
    "    def __init__(self):\n",
    "        super().__init__(10, 'decaf')    "
   ]
  },
  {
   "cell_type": "code",
   "execution_count": 180,
   "metadata": {},
   "outputs": [],
   "source": [
    "class mocha(coffee):\n",
    "    def __init__(self):\n",
    "        super().__init__()\n",
    "        self.price = 1\n",
    "        self.desc = 'mocha'"
   ]
  },
  {
   "cell_type": "code",
   "execution_count": 185,
   "metadata": {},
   "outputs": [],
   "source": [
    "class large(coffee):\n",
    "    def __init__(self):\n",
    "        super().__init__()\n",
    "        self.price = 20\n",
    "        self.desc = 'large'"
   ]
  },
  {
   "cell_type": "code",
   "execution_count": 189,
   "metadata": {},
   "outputs": [],
   "source": [
    "order = decaf() + mocha() + large()"
   ]
  },
  {
   "cell_type": "code",
   "execution_count": 192,
   "metadata": {},
   "outputs": [
    {
     "data": {
      "text/plain": [
       "41"
      ]
     },
     "execution_count": 192,
     "metadata": {},
     "output_type": "execute_result"
    }
   ],
   "source": [
    "order.price"
   ]
  },
  {
   "cell_type": "code",
   "execution_count": 191,
   "metadata": {},
   "outputs": [
    {
     "data": {
      "text/plain": [
       "'decaf-mocha-large'"
      ]
     },
     "execution_count": 191,
     "metadata": {},
     "output_type": "execute_result"
    }
   ],
   "source": [
    "order.desc"
   ]
  }
 ],
 "metadata": {
  "kernelspec": {
   "display_name": "Python 3",
   "language": "python",
   "name": "python3"
  },
  "language_info": {
   "codemirror_mode": {
    "name": "ipython",
    "version": 3
   },
   "file_extension": ".py",
   "mimetype": "text/x-python",
   "name": "python",
   "nbconvert_exporter": "python",
   "pygments_lexer": "ipython3",
   "version": "3.7.4"
  }
 },
 "nbformat": 4,
 "nbformat_minor": 2
}
