{
 "cells": [
  {
   "cell_type": "markdown",
   "metadata": {},
   "source": [
    "## Stack Data structure in Python (FILO)"
   ]
  },
  {
   "cell_type": "raw",
   "metadata": {},
   "source": [
    "- push (push an item on top of stack)\n",
    "- pop  (remove the top item from the stack)\n",
    "- isEmpty (check if empty)\n",
    "- length of the stack # dont implement\n",
    "- peek (see the top item without modifying the stack"
   ]
  },
  {
   "cell_type": "markdown",
   "metadata": {},
   "source": [
    "## implement stack using linked list in python"
   ]
  },
  {
   "cell_type": "code",
   "execution_count": 4,
   "metadata": {},
   "outputs": [],
   "source": [
    "class node:\n",
    "    def __init__(self, data=None, next_node=None):\n",
    "        self.data = data\n",
    "        self.next_node = next_node"
   ]
  },
  {
   "cell_type": "code",
   "execution_count": 5,
   "metadata": {},
   "outputs": [],
   "source": [
    "class Stack:\n",
    "    # implement without reference to the size\n",
    "    def __init__(self):\n",
    "        self.__top = None\n",
    "\n",
    "    def is_empty(self):\n",
    "        if self.__top is None:\n",
    "            return True\n",
    "        else:\n",
    "            return False\n",
    "    \n",
    "    def push(self, data):\n",
    "        if self.is_empty():\n",
    "            self.__top = node(data, None)\n",
    "        else:\n",
    "            self.__top = node(data, self.__top)\n",
    "    \n",
    "    def pop(self):\n",
    "        if self.is_empty():\n",
    "            return None\n",
    "        else:\n",
    "            top_data = self.__top.data\n",
    "            self.__top = self.__top.next_node\n",
    "            return top_data\n",
    "        \n",
    "    def peek(self):\n",
    "        if self.is_empty():\n",
    "            return None\n",
    "        return self.__top.data\n",
    "    \n",
    "    def __iter__(self):\n",
    "        # https://stackoverflow.com/questions/19151/build-a-basic-python-iterator\n",
    "        self.current = self.__top\n",
    "        while self.current is not None:\n",
    "            yield self.current.data\n",
    "            self.current = self.current.next_node\n"
   ]
  },
  {
   "cell_type": "markdown",
   "metadata": {},
   "source": [
    "# Kepler reborn:  Sum of two large numbers represented as linked list"
   ]
  },
  {
   "cell_type": "code",
   "execution_count": 3,
   "metadata": {},
   "outputs": [],
   "source": [
    "def add_two_digit(d1, d2, carry):\n",
    "    sum_ = d1 + d2 + carry\n",
    "    return sum_ // 10, sum_ % 10"
   ]
  },
  {
   "cell_type": "code",
   "execution_count": 4,
   "metadata": {},
   "outputs": [
    {
     "data": {
      "text/plain": [
       "(1, 3)"
      ]
     },
     "execution_count": 4,
     "metadata": {},
     "output_type": "execute_result"
    }
   ],
   "source": [
    "add_two_digit(7,5,1)"
   ]
  },
  {
   "cell_type": "code",
   "execution_count": 5,
   "metadata": {},
   "outputs": [],
   "source": [
    "num_one = [ 1,2,3,4,5,6,7,8,9,4,5] #12345678945 - actually can be very large\n",
    "num_two = [9,6,7,3,4,8,1,7] #96734817"
   ]
  },
  {
   "cell_type": "code",
   "execution_count": 6,
   "metadata": {},
   "outputs": [],
   "source": [
    "stack1 = Stack()\n",
    "stack2 = Stack()\n",
    "stack3 = Stack()"
   ]
  },
  {
   "cell_type": "code",
   "execution_count": 7,
   "metadata": {},
   "outputs": [],
   "source": [
    "for digit in num_one: #reverse the number \n",
    "    stack1.push(digit)\n",
    "for digit in num_two: #reverse the number \n",
    "    stack2.push(digit)"
   ]
  },
  {
   "cell_type": "code",
   "execution_count": 8,
   "metadata": {},
   "outputs": [],
   "source": [
    "def sum_two_linkd_list(stack1, stack2, stack3, carry=0):\n",
    "    if not stack1.is_empty() and not stack2.is_empty():\n",
    "        d1 = stack1.pop()\n",
    "        d2 = stack2.pop()\n",
    "        carry , sum_d = add_two_digit(d1, d2, carry)\n",
    "        #print(sum_d)\n",
    "        stack3.push(sum_d)\n",
    "    elif stack1.is_empty() and not stack2.is_empty():\n",
    "        d2 = stack2.pop()\n",
    "        d1 = 0\n",
    "        carry , sum_d = add_two_digit(d1, d2, carry)\n",
    "        #print(sum_d)\n",
    "        stack3.push(sum_d)\n",
    "    elif not stack1.is_empty() and stack2.is_empty():\n",
    "        d1 = stack1.pop()\n",
    "        d2 = 0\n",
    "        carry , sum_d = add_two_digit(d1, d2, carry)\n",
    "        #print(sum_d)\n",
    "        stack3.push(sum_d)\n",
    "    else:\n",
    "        return\n",
    "    sum_two_linkd_list(stack1, stack2, stack3, carry)"
   ]
  },
  {
   "cell_type": "code",
   "execution_count": 9,
   "metadata": {},
   "outputs": [],
   "source": [
    "sum_two_linkd_list(stack1, stack2, stack3, carry=0)"
   ]
  },
  {
   "cell_type": "code",
   "execution_count": 10,
   "metadata": {},
   "outputs": [],
   "source": [
    "out = ''\n",
    "while not stack3.is_empty():\n",
    "    out += str(stack3.pop())"
   ]
  },
  {
   "cell_type": "code",
   "execution_count": 11,
   "metadata": {},
   "outputs": [
    {
     "data": {
      "text/plain": [
       "True"
      ]
     },
     "execution_count": 11,
     "metadata": {},
     "output_type": "execute_result"
    }
   ],
   "source": [
    "out == str(12345678945  + 96734817)"
   ]
  },
  {
   "cell_type": "markdown",
   "metadata": {},
   "source": [
    "# optimize code "
   ]
  },
  {
   "cell_type": "code",
   "execution_count": 26,
   "metadata": {},
   "outputs": [],
   "source": [
    "def add_two_digit(d1, d2, carry):\n",
    "    if d1 is None:\n",
    "        d1 = 0\n",
    "    if d2 is None:\n",
    "        d2 = 0\n",
    "    sum_ = d1 + d2 + carry\n",
    "    return sum_ // 10, sum_ % 10"
   ]
  },
  {
   "cell_type": "code",
   "execution_count": 27,
   "metadata": {},
   "outputs": [],
   "source": [
    "num_one = [ 1,2,3,4,5,6,7,8,9,4,5] #12345678945 - actually can be very large\n",
    "num_two = [9,6,7,3,4,8,1,7] #96734817"
   ]
  },
  {
   "cell_type": "code",
   "execution_count": 28,
   "metadata": {},
   "outputs": [],
   "source": [
    "stack1 = Stack()\n",
    "stack2 = Stack()\n",
    "stack3 = Stack()"
   ]
  },
  {
   "cell_type": "code",
   "execution_count": 29,
   "metadata": {},
   "outputs": [],
   "source": [
    "for digit in num_one: #reverse the number \n",
    "    stack1.push(digit)\n",
    "for digit in num_two: #reverse the number \n",
    "    stack2.push(digit)"
   ]
  },
  {
   "cell_type": "code",
   "execution_count": 30,
   "metadata": {},
   "outputs": [],
   "source": [
    "def sum_two_linkd_list(stack1, stack2, stack3, carry=0):\n",
    "    if stack1.is_empty() and stack2.is_empty():\n",
    "        return\n",
    "    else:\n",
    "        d1 = stack1.pop()\n",
    "        d2 = stack2.pop()\n",
    "        carry , sum_d = add_two_digit(d1, d2, carry)\n",
    "        stack3.push(sum_d)\n",
    "    return sum_two_linkd_list(stack1, stack2, stack3, carry)"
   ]
  },
  {
   "cell_type": "code",
   "execution_count": 31,
   "metadata": {},
   "outputs": [],
   "source": [
    "sum_two_linkd_list(stack1, stack2, stack3, carry=0)"
   ]
  },
  {
   "cell_type": "code",
   "execution_count": 32,
   "metadata": {},
   "outputs": [],
   "source": [
    "out = ''\n",
    "while not stack3.is_empty():\n",
    "    out += str(stack3.pop())"
   ]
  },
  {
   "cell_type": "code",
   "execution_count": 33,
   "metadata": {},
   "outputs": [
    {
     "data": {
      "text/plain": [
       "True"
      ]
     },
     "execution_count": 33,
     "metadata": {},
     "output_type": "execute_result"
    }
   ],
   "source": [
    "out == str(12345678945  + 96734817)"
   ]
  },
  {
   "cell_type": "markdown",
   "metadata": {},
   "source": [
    "# Next larger number\n"
   ]
  },
  {
   "cell_type": "code",
   "execution_count": 48,
   "metadata": {},
   "outputs": [],
   "source": [
    "#https://practice.geeksforgeeks.org/problems/next-larger-element/0\n",
    "a = [6,15,4,3,2,10,8,9]\n",
    "input_stack = Stack()\n",
    "temp_stack = Stack()\n",
    "for num in a[::-1]:\n",
    "    input_stack.push(num)"
   ]
  },
  {
   "cell_type": "code",
   "execution_count": 49,
   "metadata": {},
   "outputs": [
    {
     "name": "stdout",
     "output_type": "stream",
     "text": [
      "[15, -1, 10, 10, 10, -1, 9, -1]\n"
     ]
    }
   ],
   "source": [
    "def next_higher(temp_stack, input_stack, input_L):\n",
    "    out = dict()\n",
    "    while(not input_stack.is_empty()):\n",
    "        if temp_stack.is_empty(): # if temp stack is empty, pop the input and push into temp stack\n",
    "            temp_stack.push(input_stack.pop())\n",
    "        elif input_stack.peek() > temp_stack.peek(): # if data in temp check the top of input > top of temp\n",
    "            out[temp_stack.pop()] = input_stack.peek()\n",
    "        else:\n",
    "            temp_stack.push(input_stack.pop()) \n",
    "    for i, v in enumerate(input_L):\n",
    "        input_L[i] = out.get(input_L[i], -1)\n",
    "    return input_L\n",
    "            \n",
    "out = next_higher(temp_stack, input_stack, a)\n",
    "print(out)"
   ]
  }
 ],
 "metadata": {
  "kernelspec": {
   "display_name": "Python 3",
   "language": "python",
   "name": "python3"
  },
  "language_info": {
   "codemirror_mode": {
    "name": "ipython",
    "version": 3
   },
   "file_extension": ".py",
   "mimetype": "text/x-python",
   "name": "python",
   "nbconvert_exporter": "python",
   "pygments_lexer": "ipython3",
   "version": "3.7.4"
  }
 },
 "nbformat": 4,
 "nbformat_minor": 4
}
