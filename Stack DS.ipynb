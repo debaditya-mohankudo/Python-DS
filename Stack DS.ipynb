{
 "cells": [
  {
   "cell_type": "markdown",
   "metadata": {},
   "source": [
    "## Stack Data structure in Python (FILO)"
   ]
  },
  {
   "cell_type": "raw",
   "metadata": {},
   "source": [
    "- push (push an item on top of stack)\n",
    "- pop  (remove the top item from the stack)\n",
    "- isEmpty (check if empty)\n",
    "- length of the stack\n",
    "- peek (see the top item without modifying the stack\n"
   ]
  },
  {
   "cell_type": "markdown",
   "metadata": {},
   "source": [
    "## implement stack using linked list in python"
   ]
  },
  {
   "cell_type": "code",
   "execution_count": 2,
   "metadata": {},
   "outputs": [],
   "source": [
    "class node:\n",
    "    def __init__(self, data=None, next_node=None):\n",
    "        self.data = data\n",
    "        self.next_node = next_node"
   ]
  },
  {
   "cell_type": "code",
   "execution_count": 3,
   "metadata": {},
   "outputs": [],
   "source": [
    "\n",
    "\n",
    "class Stack:\n",
    "    def __init__(self):\n",
    "        self.__top = None\n",
    "        self.__size = 0\n",
    "        \n",
    "    def __len__(self):\n",
    "        return self.__size\n",
    "    \n",
    "    def is_empty(self):\n",
    "        if len(self) == 0:\n",
    "            return True\n",
    "    \n",
    "    def push(self, data):\n",
    "        if self.is_empty():\n",
    "            self.__top = node(data, None)\n",
    "            self.__size += 1\n",
    "        else:\n",
    "            self.__top = node(data, self.__top)\n",
    "            self.__size += 1\n",
    "    \n",
    "    def pop(self):\n",
    "        if self.is_empty():\n",
    "            return None\n",
    "        elif len(self) == 1:\n",
    "            top_data = self.__top.data\n",
    "            self.__size -= 1\n",
    "            self.__top = None\n",
    "            return top_data\n",
    "        else:\n",
    "            top_data = self.__top.data\n",
    "            self.__top = self.__top.next_node\n",
    "            self.__size -= 1\n",
    "            return top_data\n",
    "        \n",
    "    def peek(self):\n",
    "        if self.is_empty():\n",
    "            return None\n",
    "        return self.__top.data\n",
    "    \n",
    "    def __iter__(self):\n",
    "        # https://stackoverflow.com/questions/19151/build-a-basic-python-iterator\n",
    "        self.current = self.__top\n",
    "        while self.current is not None:\n",
    "            yield self.current.data\n",
    "            self.current = self.current.next_node\n"
   ]
  },
  {
   "cell_type": "raw",
   "metadata": {},
   "source": [
    "Problem: \"{({{[]}})}\" make sure the brackets are closed properly -  using stack\n",
    "# soln check if the new item pushed on top matches the top"
   ]
  },
  {
   "cell_type": "code",
   "execution_count": 5,
   "metadata": {},
   "outputs": [],
   "source": [
    "p1 = \"{({{[]}})}\"\n",
    "################################\n",
    "map_p = {\n",
    "'{' : 1,\n",
    "'}' : -1,\n",
    "'(' : 2,\n",
    "')' : -2,\n",
    "'[' : 3,\n",
    "']' : -3\n",
    "}\n",
    "s = Stack()\n",
    "for p in p1:\n",
    "    if s.peek() is None:\n",
    "        s.push(p)\n",
    "    else:\n",
    "        if map_p[p] + map_p[s.peek()] == 0:\n",
    "            s.pop()\n",
    "        else:\n",
    "            s.push(p)\n",
    "if len(s):\n",
    "    print(\"not closed properly\")"
   ]
  },
  {
   "cell_type": "markdown",
   "metadata": {},
   "source": [
    "# Sum of two represented as linked list"
   ]
  },
  {
   "cell_type": "code",
   "execution_count": 190,
   "metadata": {},
   "outputs": [],
   "source": [
    "def add_two_digit(d1, d2, carry):\n",
    "    sum_ = d1 + d2 + carry\n",
    "    return sum_ // 10, sum_ % 10"
   ]
  },
  {
   "cell_type": "code",
   "execution_count": 191,
   "metadata": {},
   "outputs": [
    {
     "data": {
      "text/plain": [
       "(1, 3)"
      ]
     },
     "execution_count": 191,
     "metadata": {},
     "output_type": "execute_result"
    }
   ],
   "source": [
    "add_two_digit(7,5,1)"
   ]
  },
  {
   "cell_type": "code",
   "execution_count": 192,
   "metadata": {},
   "outputs": [],
   "source": [
    "num_one = [ 1,2,3,4,5,6,7,8,9,4,5] #12345678945\n",
    "num_two = [9,6,7,3,4,8,1,7] #96734817"
   ]
  },
  {
   "cell_type": "code",
   "execution_count": 193,
   "metadata": {},
   "outputs": [],
   "source": [
    "stack1 = Stack()\n",
    "stack2 = Stack()\n",
    "stack3 = Stack()"
   ]
  },
  {
   "cell_type": "code",
   "execution_count": 194,
   "metadata": {},
   "outputs": [],
   "source": [
    "for digit in num_one: #reverse the number \n",
    "    stack1.push(digit)\n",
    "for digit in num_two: #reverse the number \n",
    "    stack2.push(digit)"
   ]
  },
  {
   "cell_type": "code",
   "execution_count": 195,
   "metadata": {},
   "outputs": [],
   "source": [
    "def sum_two_linkd_list(stack1, stack2, stack3, carry=0):\n",
    "    if not stack1.is_empty() and not stack2.is_empty():\n",
    "        d1 = stack1.pop()\n",
    "        d2 = stack2.pop()\n",
    "        carry , sum_d = add_two_digit(d1, d2, carry)\n",
    "        #print(sum_d)\n",
    "        stack3.push(sum_d)\n",
    "    elif stack1.is_empty() and not stack2.is_empty():\n",
    "        d2 = stack2.pop()\n",
    "        d1 = 0\n",
    "        carry , sum_d = add_two_digit(d1, d2, carry)\n",
    "        #print(sum_d)\n",
    "        stack3.push(sum_d)\n",
    "    elif not stack1.is_empty() and stack2.is_empty():\n",
    "        d1 = stack1.pop()\n",
    "        d2 = 0\n",
    "        carry , sum_d = add_two_digit(d1, d2, carry)\n",
    "        #print(sum_d)\n",
    "        stack3.push(sum_d)\n",
    "    else:\n",
    "        return\n",
    "    sum_two_linkd_list(stack1, stack2, stack3, carry)"
   ]
  },
  {
   "cell_type": "code",
   "execution_count": 196,
   "metadata": {},
   "outputs": [],
   "source": [
    "sum_two_linkd_list(stack1, stack2, stack3, carry=0)"
   ]
  },
  {
   "cell_type": "code",
   "execution_count": 197,
   "metadata": {},
   "outputs": [],
   "source": [
    "out = ''\n",
    "while not stack3.is_empty():\n",
    "    out += str(stack3.pop())"
   ]
  },
  {
   "cell_type": "code",
   "execution_count": 198,
   "metadata": {},
   "outputs": [
    {
     "data": {
      "text/plain": [
       "'12442413762'"
      ]
     },
     "execution_count": 198,
     "metadata": {},
     "output_type": "execute_result"
    }
   ],
   "source": [
    "out"
   ]
  },
  {
   "cell_type": "code",
   "execution_count": null,
   "metadata": {},
   "outputs": [],
   "source": []
  }
 ],
 "metadata": {
  "kernelspec": {
   "display_name": "Python 3",
   "language": "python",
   "name": "python3"
  },
  "language_info": {
   "codemirror_mode": {
    "name": "ipython",
    "version": 3
   },
   "file_extension": ".py",
   "mimetype": "text/x-python",
   "name": "python",
   "nbconvert_exporter": "python",
   "pygments_lexer": "ipython3",
   "version": "3.7.4"
  }
 },
 "nbformat": 4,
 "nbformat_minor": 4
}
