{
 "cells": [
  {
   "cell_type": "markdown",
   "metadata": {},
   "source": [
    "## Stack Data structure in Python (FILO)"
   ]
  },
  {
   "cell_type": "raw",
   "metadata": {},
   "source": [
    "- push (push an item on top of stack)\n",
    "- pop  (remove the top item from the stack)\n",
    "- isEmpty (check if empty)\n",
    "- length of the stack\n",
    "- peek (see the top item without modifying the stack\n"
   ]
  },
  {
   "cell_type": "markdown",
   "metadata": {},
   "source": [
    "![Image of stack](https://www.sitesbay.com/data-structure/images/push-operation.gif)"
   ]
  },
  {
   "cell_type": "markdown",
   "metadata": {},
   "source": [
    "## implement stack using linked list in python"
   ]
  },
  {
   "cell_type": "code",
   "execution_count": 91,
   "metadata": {},
   "outputs": [],
   "source": [
    "class StackNode(object):\n",
    "    \"\"\"class to represent a node in stack\"\"\"\n",
    "    def __init__(self, item, link):\n",
    "        self.item = item\n",
    "        self.next = link\n",
    "\n",
    "class Stack(object):\n",
    "    \"\"\"class to represent the stack\"\"\"\n",
    "    def __init__(self):\n",
    "        self.__top = None\n",
    "        self.__size = 0\n",
    "        \n",
    "    def __len__(self):\n",
    "        \"\"\"returns size of the stack \"\"\"\n",
    "        return self.__size\n",
    "    \n",
    "    def push(self, item):\n",
    "        \"\"\"push an item onto the top of the slack\"\"\"\n",
    "        self.__top = StackNode(item, self.__top)\n",
    "        self.__size += 1\n",
    "        \n",
    "    def pop(self):\n",
    "        \"\"\"remove the top item from stack \"\"\"\n",
    "        self.__top = self.__top.next\n",
    "        self.__size -= 1\n",
    "        \n",
    "    def peek(self):\n",
    "        \"\"\" know the top item without removing the item from stack\"\"\"\n",
    "        if self.__top is None:\n",
    "            return None \n",
    "        else:\n",
    "            return self.__top.item"
   ]
  },
  {
   "cell_type": "code",
   "execution_count": 92,
   "metadata": {},
   "outputs": [
    {
     "data": {
      "text/plain": [
       "3"
      ]
     },
     "execution_count": 92,
     "metadata": {},
     "output_type": "execute_result"
    }
   ],
   "source": [
    "s = Stack()\n",
    "s.push(3)\n",
    "s.push(4)\n",
    "len(s)\n",
    "s.pop()\n",
    "len(s)\n",
    "s.peek()"
   ]
  },
  {
   "cell_type": "raw",
   "metadata": {},
   "source": [
    "Problem: \"{({{[]}})}\" make sure the brackets are closed properly -  using stack\n",
    "# soln check if the new item pushed on top matches the top"
   ]
  },
  {
   "cell_type": "code",
   "execution_count": 94,
   "metadata": {},
   "outputs": [
    {
     "name": "stdout",
     "output_type": "stream",
     "text": [
      "not closed properly\n"
     ]
    }
   ],
   "source": [
    "p1 = \"{({{[]}})}(\"\n",
    "################################\n",
    "map_p = {\n",
    "'{' : 1,\n",
    "'}' : -1,\n",
    "'(' : 2,\n",
    "')' : -2,\n",
    "'[' : 3,\n",
    "']' : -3\n",
    "}\n",
    "s = Stack()\n",
    "for p in p1:\n",
    "    if s.peek() is None:\n",
    "        s.push(p)\n",
    "    else:\n",
    "        if map_p[p] + map_p[s.peek()] == 0:\n",
    "            s.pop()\n",
    "        else:\n",
    "            s.push(p)\n",
    "if len(s):\n",
    "    print(\"not closed properly\")"
   ]
  },
  {
   "cell_type": "code",
   "execution_count": null,
   "metadata": {},
   "outputs": [],
   "source": []
  },
  {
   "cell_type": "code",
   "execution_count": null,
   "metadata": {},
   "outputs": [],
   "source": []
  }
 ],
 "metadata": {
  "kernelspec": {
   "display_name": "Python 3",
   "language": "python",
   "name": "python3"
  },
  "language_info": {
   "codemirror_mode": {
    "name": "ipython",
    "version": 3
   },
   "file_extension": ".py",
   "mimetype": "text/x-python",
   "name": "python",
   "nbconvert_exporter": "python",
   "pygments_lexer": "ipython3",
   "version": "3.7.4"
  }
 },
 "nbformat": 4,
 "nbformat_minor": 4
}
