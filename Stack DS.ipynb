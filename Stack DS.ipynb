{
 "cells": [
  {
   "cell_type": "markdown",
   "metadata": {},
   "source": [
    "## Stack Data structure in Python (FILO)"
   ]
  },
  {
   "cell_type": "raw",
   "metadata": {},
   "source": [
    "- push (push an item on top of stack)\n",
    "- pop  (remove the top item from the stack)\n",
    "- isEmpty (check if empty)\n",
    "- length of the stack\n",
    "- peek (see the top item without modifying the stack\n"
   ]
  },
  {
   "cell_type": "markdown",
   "metadata": {},
   "source": [
    "## implement stack using linked list in python"
   ]
  },
  {
   "cell_type": "code",
   "execution_count": 7,
   "metadata": {},
   "outputs": [],
   "source": [
    "class node:\n",
    "    def __init__(self, data=None, next_node=None):\n",
    "        self.data = data\n",
    "        self.next_node = next_node"
   ]
  },
  {
   "cell_type": "code",
   "execution_count": 33,
   "metadata": {},
   "outputs": [],
   "source": [
    "\n",
    "\n",
    "class Stack:\n",
    "    def __init__(self):\n",
    "        self.__top = None\n",
    "        self.__size = 0\n",
    "        \n",
    "    def __len__(self):\n",
    "        return self.__size\n",
    "    \n",
    "    def is_empty(self):\n",
    "        if len(self) == 0:\n",
    "            return True\n",
    "    \n",
    "    def push(self, data):\n",
    "        if self.is_empty():\n",
    "            self.__top = node(data, None)\n",
    "            self.__size += 1\n",
    "        else:\n",
    "            self.__top = node(data, self.__top)\n",
    "            self.__size += 1\n",
    "    \n",
    "    def pop(self):\n",
    "        if self.is_empty():\n",
    "            return None\n",
    "        elif len(self) == 1:\n",
    "            top_data = self.__top.data\n",
    "            self.__size -= 1\n",
    "            self.__top = None\n",
    "            return top_data\n",
    "        else:\n",
    "            top_data = self.__top.data\n",
    "            self.__top = self.__top.next_node\n",
    "            self.__size -= 1\n",
    "            return top_data\n",
    "        \n",
    "    def peek(self):\n",
    "        if self.is_empty():\n",
    "            return None\n",
    "        return self.__top.data\n",
    "    \n",
    "    def __iter__(self):\n",
    "        # https://stackoverflow.com/questions/19151/build-a-basic-python-iterator\n",
    "        self.current = self.__top\n",
    "        while self.current is not None:\n",
    "            yield self.current.data\n",
    "            self.current = self.current.next_node\n"
   ]
  },
  {
   "cell_type": "raw",
   "metadata": {},
   "source": [
    "Problem: \"{({{[]}})}\" make sure the brackets are closed properly -  using stack\n",
    "# soln check if the new item pushed on top matches the top"
   ]
  },
  {
   "cell_type": "code",
   "execution_count": 34,
   "metadata": {},
   "outputs": [],
   "source": [
    "p1 = \"{({{[]}})}\"\n",
    "################################\n",
    "map_p = {\n",
    "'{' : 1,\n",
    "'}' : -1,\n",
    "'(' : 2,\n",
    "')' : -2,\n",
    "'[' : 3,\n",
    "']' : -3\n",
    "}\n",
    "s = Stack()\n",
    "for p in p1:\n",
    "    if s.peek() is None:\n",
    "        s.push(p)\n",
    "    else:\n",
    "        if map_p[p] + map_p[s.peek()] == 0:\n",
    "            s.pop()\n",
    "        else:\n",
    "            s.push(p)\n",
    "if len(s):\n",
    "    print(\"not closed properly\")"
   ]
  },
  {
   "cell_type": "code",
   "execution_count": 35,
   "metadata": {},
   "outputs": [],
   "source": [
    "sorted_array = [1, 2,3,4]\n",
    "stack_S = Stack()\n",
    "for i in sorted_array:\n",
    "    stack_S.push(i)"
   ]
  },
  {
   "cell_type": "code",
   "execution_count": 45,
   "metadata": {},
   "outputs": [
    {
     "name": "stdout",
     "output_type": "stream",
     "text": [
      "<__main__.node object at 0x1097d8f90>\n"
     ]
    }
   ],
   "source": [
    "for node in stack_S:\n",
    "    if node == 3:\n",
    "        print(stack_S.current)\n"
   ]
  },
  {
   "cell_type": "code",
   "execution_count": 44,
   "metadata": {},
   "outputs": [
    {
     "ename": "TypeError",
     "evalue": "'int' object is not iterable",
     "output_type": "error",
     "traceback": [
      "\u001b[0;31m---------------------------------------------------------------------------\u001b[0m",
      "\u001b[0;31mTypeError\u001b[0m                                 Traceback (most recent call last)",
      "\u001b[0;32m<ipython-input-44-367cbfae6dbe>\u001b[0m in \u001b[0;36m<module>\u001b[0;34m\u001b[0m\n\u001b[0;32m----> 1\u001b[0;31m \u001b[0;32mfor\u001b[0m \u001b[0mi\u001b[0m \u001b[0;32min\u001b[0m \u001b[0mitem\u001b[0m\u001b[0;34m:\u001b[0m\u001b[0;34m\u001b[0m\u001b[0;34m\u001b[0m\u001b[0m\n\u001b[0m\u001b[1;32m      2\u001b[0m     \u001b[0;32mif\u001b[0m \u001b[0mi\u001b[0m \u001b[0;34m==\u001b[0m \u001b[0;36m3\u001b[0m\u001b[0;34m:\u001b[0m\u001b[0;34m\u001b[0m\u001b[0;34m\u001b[0m\u001b[0m\n\u001b[1;32m      3\u001b[0m         \u001b[0mprint\u001b[0m\u001b[0;34m(\u001b[0m\u001b[0mstack_S\u001b[0m\u001b[0;34m.\u001b[0m\u001b[0mcurrent\u001b[0m\u001b[0;34m)\u001b[0m\u001b[0;34m\u001b[0m\u001b[0;34m\u001b[0m\u001b[0m\n",
      "\u001b[0;31mTypeError\u001b[0m: 'int' object is not iterable"
     ]
    }
   ],
   "source": [
    "for i in item:\n",
    "    if i == 3:\n",
    "        print(stack_S.current)"
   ]
  },
  {
   "cell_type": "code",
   "execution_count": null,
   "metadata": {},
   "outputs": [],
   "source": []
  }
 ],
 "metadata": {
  "kernelspec": {
   "display_name": "Python 3",
   "language": "python",
   "name": "python3"
  },
  "language_info": {
   "codemirror_mode": {
    "name": "ipython",
    "version": 3
   },
   "file_extension": ".py",
   "mimetype": "text/x-python",
   "name": "python",
   "nbconvert_exporter": "python",
   "pygments_lexer": "ipython3",
   "version": "3.7.4"
  }
 },
 "nbformat": 4,
 "nbformat_minor": 4
}
