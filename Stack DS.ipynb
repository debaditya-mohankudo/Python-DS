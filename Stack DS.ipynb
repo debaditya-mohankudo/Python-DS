{
 "cells": [
  {
   "cell_type": "markdown",
   "metadata": {},
   "source": [
    "## Stack Data structure in Python (FILO)"
   ]
  },
  {
   "cell_type": "raw",
   "metadata": {},
   "source": [
    "- push (push an item on top of stack)\n",
    "- pop  (remove the top item from the stack)\n",
    "- isEmpty (check if empty)\n",
    "- length of the stack\n",
    "- peek (see the top item without modifying the stack\n"
   ]
  },
  {
   "cell_type": "markdown",
   "metadata": {},
   "source": [
    "## implement stack using linked list in python"
   ]
  },
  {
   "cell_type": "code",
   "execution_count": 8,
   "metadata": {},
   "outputs": [],
   "source": [
    "class node:\n",
    "    def __init__(self, data=None, next_node=None):\n",
    "        self.data = data\n",
    "        self.next_node = next_node"
   ]
  },
  {
   "cell_type": "code",
   "execution_count": 9,
   "metadata": {},
   "outputs": [],
   "source": [
    "class stack:\n",
    "    def __init__(self):\n",
    "        self.__top = None\n",
    "        self.__size = 0\n",
    "        \n",
    "    def __len__(self):\n",
    "        return self.__size\n",
    "    \n",
    "    def is_empty(self):\n",
    "        if len(self) == 0:\n",
    "            return True\n",
    "    \n",
    "    def push(self, data):\n",
    "        if self.is_empty():\n",
    "            self.__top = node(data, None)\n",
    "            self.__size += 1\n",
    "        else:\n",
    "            self.__top = node(data, self.__top)\n",
    "            self.__size += 1\n",
    "    \n",
    "    def pop(self):\n",
    "        if self.is_empty():\n",
    "            return None\n",
    "        elif len(self) == 1:\n",
    "            top_data = self.__top.data\n",
    "            self.__size -= 1\n",
    "            self.__top = None\n",
    "            return top_data\n",
    "        else:\n",
    "            top_data = self.__top.data\n",
    "            self.__top = self.__top.next_node\n",
    "            self.__size -= 1\n",
    "            return top_data\n",
    "        \n",
    "    def peek(self):\n",
    "        if self.is_empty():\n",
    "            return None\n",
    "        return self.__top.data\n",
    "            \n",
    "            "
   ]
  },
  {
   "cell_type": "raw",
   "metadata": {},
   "source": [
    "Problem: \"{({{[]}})}\" make sure the brackets are closed properly -  using stack\n",
    "# soln check if the new item pushed on top matches the top"
   ]
  },
  {
   "cell_type": "code",
   "execution_count": 10,
   "metadata": {},
   "outputs": [],
   "source": [
    "p1 = \"{({{[]}})}\"\n",
    "################################\n",
    "map_p = {\n",
    "'{' : 1,\n",
    "'}' : -1,\n",
    "'(' : 2,\n",
    "')' : -2,\n",
    "'[' : 3,\n",
    "']' : -3\n",
    "}\n",
    "s = stack()\n",
    "for p in p1:\n",
    "    if s.peek() is None:\n",
    "        s.push(p)\n",
    "    else:\n",
    "        if map_p[p] + map_p[s.peek()] == 0:\n",
    "            s.pop()\n",
    "        else:\n",
    "            s.push(p)\n",
    "if len(s):\n",
    "    print(\"not closed properly\")"
   ]
  }
 ],
 "metadata": {
  "kernelspec": {
   "display_name": "Python 3",
   "language": "python",
   "name": "python3"
  },
  "language_info": {
   "codemirror_mode": {
    "name": "ipython",
    "version": 3
   },
   "file_extension": ".py",
   "mimetype": "text/x-python",
   "name": "python",
   "nbconvert_exporter": "python",
   "pygments_lexer": "ipython3",
   "version": "3.7.4"
  }
 },
 "nbformat": 4,
 "nbformat_minor": 4
}
