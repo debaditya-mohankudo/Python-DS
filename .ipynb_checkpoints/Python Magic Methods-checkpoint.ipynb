{
 "cells": [
  {
   "cell_type": "raw",
   "metadata": {},
   "source": [
    "CREDITS: https://www.youtube.com/watch?v=MnmDi-pD7Rk"
   ]
  },
  {
   "cell_type": "markdown",
   "metadata": {},
   "source": [
    "## Url Path Building"
   ]
  },
  {
   "cell_type": "code",
   "execution_count": 31,
   "metadata": {},
   "outputs": [],
   "source": [
    "class Url:\n",
    "    def __init__(self, url):\n",
    "        self._url = url\n",
    "    def __truediv__(self, x):\n",
    "        return self.__class__('{}/{}'.format(self._url, x))\n",
    "    def __str__(self):\n",
    "        return self._url"
   ]
  },
  {
   "cell_type": "code",
   "execution_count": 33,
   "metadata": {},
   "outputs": [
    {
     "name": "stdout",
     "output_type": "stream",
     "text": [
      "google.com/search/3.142\n"
     ]
    }
   ],
   "source": [
    "print(Url('google.com') / 'search' / 3.142)"
   ]
  },
  {
   "cell_type": "code",
   "execution_count": null,
   "metadata": {},
   "outputs": [],
   "source": []
  }
 ],
 "metadata": {
  "kernelspec": {
   "display_name": "Python 3",
   "language": "python",
   "name": "python3"
  },
  "language_info": {
   "codemirror_mode": {
    "name": "ipython",
    "version": 3
   },
   "file_extension": ".py",
   "mimetype": "text/x-python",
   "name": "python",
   "nbconvert_exporter": "python",
   "pygments_lexer": "ipython3",
   "version": "3.7.4"
  }
 },
 "nbformat": 4,
 "nbformat_minor": 2
}
